{
  "nbformat": 4,
  "nbformat_minor": 0,
  "metadata": {
    "colab": {
      "name": "prophet_case_atendimentos_chatbot.ipynb",
      "provenance": [],
      "collapsed_sections": []
    },
    "kernelspec": {
      "name": "python3",
      "display_name": "Python 3"
    },
    "language_info": {
      "name": "python"
    }
  },
  "cells": [
    {
      "cell_type": "markdown",
      "metadata": {
        "id": "WU52cDxK3Nkz"
      },
      "source": [
        "##Importação da biblioteca Pandas e, criação, visualização, informação e descrição do DataFrame \"atendimentos\""
      ]
    },
    {
      "cell_type": "code",
      "metadata": {
        "colab": {
          "base_uri": "https://localhost:8080/",
          "height": 206
        },
        "id": "3YSqL0XHLb6J",
        "outputId": "8d946c5a-9fe6-48ae-bdc3-e923333cc924"
      },
      "source": [
        "import pandas as pd\n",
        "\n",
        "atendimentos = pd.read_csv('log_usuarios.csv', sep=';', dtype= str)\n",
        "atendimentos.head()"
      ],
      "execution_count": 40,
      "outputs": [
        {
          "output_type": "execute_result",
          "data": {
            "text/html": [
              "<div>\n",
              "<style scoped>\n",
              "    .dataframe tbody tr th:only-of-type {\n",
              "        vertical-align: middle;\n",
              "    }\n",
              "\n",
              "    .dataframe tbody tr th {\n",
              "        vertical-align: top;\n",
              "    }\n",
              "\n",
              "    .dataframe thead th {\n",
              "        text-align: right;\n",
              "    }\n",
              "</style>\n",
              "<table border=\"1\" class=\"dataframe\">\n",
              "  <thead>\n",
              "    <tr style=\"text-align: right;\">\n",
              "      <th></th>\n",
              "      <th>data_consulta</th>\n",
              "      <th>useriD</th>\n",
              "    </tr>\n",
              "  </thead>\n",
              "  <tbody>\n",
              "    <tr>\n",
              "      <th>0</th>\n",
              "      <td>22/06/2021 00:00</td>\n",
              "      <td>id3419573841478276</td>\n",
              "    </tr>\n",
              "    <tr>\n",
              "      <th>1</th>\n",
              "      <td>22/06/2021 00:00</td>\n",
              "      <td>id3488842687885635</td>\n",
              "    </tr>\n",
              "    <tr>\n",
              "      <th>2</th>\n",
              "      <td>22/06/2021 00:00</td>\n",
              "      <td>id3818514014826811</td>\n",
              "    </tr>\n",
              "    <tr>\n",
              "      <th>3</th>\n",
              "      <td>22/06/2021 00:00</td>\n",
              "      <td>id3823611161064779</td>\n",
              "    </tr>\n",
              "    <tr>\n",
              "      <th>4</th>\n",
              "      <td>22/06/2021 00:00</td>\n",
              "      <td>id4029980273784788</td>\n",
              "    </tr>\n",
              "  </tbody>\n",
              "</table>\n",
              "</div>"
            ],
            "text/plain": [
              "      data_consulta              useriD\n",
              "0  22/06/2021 00:00  id3419573841478276\n",
              "1  22/06/2021 00:00  id3488842687885635\n",
              "2  22/06/2021 00:00  id3818514014826811\n",
              "3  22/06/2021 00:00  id3823611161064779\n",
              "4  22/06/2021 00:00  id4029980273784788"
            ]
          },
          "metadata": {},
          "execution_count": 40
        }
      ]
    },
    {
      "cell_type": "code",
      "metadata": {
        "colab": {
          "base_uri": "https://localhost:8080/"
        },
        "id": "qdw-6RjpPDBS",
        "outputId": "b339245f-f99c-47fc-acc1-09326dc3fdf0"
      },
      "source": [
        "atendimentos.info()"
      ],
      "execution_count": 41,
      "outputs": [
        {
          "output_type": "stream",
          "name": "stdout",
          "text": [
            "<class 'pandas.core.frame.DataFrame'>\n",
            "RangeIndex: 1202 entries, 0 to 1201\n",
            "Data columns (total 2 columns):\n",
            " #   Column         Non-Null Count  Dtype \n",
            "---  ------         --------------  ----- \n",
            " 0   data_consulta  1202 non-null   object\n",
            " 1   useriD         1202 non-null   object\n",
            "dtypes: object(2)\n",
            "memory usage: 18.9+ KB\n"
          ]
        }
      ]
    },
    {
      "cell_type": "code",
      "metadata": {
        "colab": {
          "base_uri": "https://localhost:8080/",
          "height": 175
        },
        "id": "35iSM7kGPFhD",
        "outputId": "51fd3737-a5c6-4bc2-ff5a-673b0d9ae9b3"
      },
      "source": [
        "atendimentos.describe()"
      ],
      "execution_count": 42,
      "outputs": [
        {
          "output_type": "execute_result",
          "data": {
            "text/html": [
              "<div>\n",
              "<style scoped>\n",
              "    .dataframe tbody tr th:only-of-type {\n",
              "        vertical-align: middle;\n",
              "    }\n",
              "\n",
              "    .dataframe tbody tr th {\n",
              "        vertical-align: top;\n",
              "    }\n",
              "\n",
              "    .dataframe thead th {\n",
              "        text-align: right;\n",
              "    }\n",
              "</style>\n",
              "<table border=\"1\" class=\"dataframe\">\n",
              "  <thead>\n",
              "    <tr style=\"text-align: right;\">\n",
              "      <th></th>\n",
              "      <th>data_consulta</th>\n",
              "      <th>useriD</th>\n",
              "    </tr>\n",
              "  </thead>\n",
              "  <tbody>\n",
              "    <tr>\n",
              "      <th>count</th>\n",
              "      <td>1202</td>\n",
              "      <td>1202</td>\n",
              "    </tr>\n",
              "    <tr>\n",
              "      <th>unique</th>\n",
              "      <td>78</td>\n",
              "      <td>1078</td>\n",
              "    </tr>\n",
              "    <tr>\n",
              "      <th>top</th>\n",
              "      <td>24/06/2021 00:00</td>\n",
              "      <td>id3334675089905111</td>\n",
              "    </tr>\n",
              "    <tr>\n",
              "      <th>freq</th>\n",
              "      <td>43</td>\n",
              "      <td>11</td>\n",
              "    </tr>\n",
              "  </tbody>\n",
              "</table>\n",
              "</div>"
            ],
            "text/plain": [
              "           data_consulta              useriD\n",
              "count               1202                1202\n",
              "unique                78                1078\n",
              "top     24/06/2021 00:00  id3334675089905111\n",
              "freq                  43                  11"
            ]
          },
          "metadata": {},
          "execution_count": 42
        }
      ]
    },
    {
      "cell_type": "markdown",
      "metadata": {
        "id": "NHvT-fMd907L"
      },
      "source": [
        "##Array com os valores únicos da coluna \"data_consulta\" do DataFrame \"atendimentos\""
      ]
    },
    {
      "cell_type": "code",
      "metadata": {
        "colab": {
          "base_uri": "https://localhost:8080/"
        },
        "id": "5sz6sYs0kGng",
        "outputId": "f8b8b894-2c96-4af2-bd62-ba327a2ddee8"
      },
      "source": [
        "atendimentos['data_consulta'].unique()"
      ],
      "execution_count": 43,
      "outputs": [
        {
          "output_type": "execute_result",
          "data": {
            "text/plain": [
              "array(['22/06/2021 00:00', '23/06/2021 00:00', '24/06/2021 00:00',\n",
              "       '25/06/2021 00:00', '05/07/2021 00:00', '06/07/2021 00:00',\n",
              "       '07/07/2021 00:00', '08/07/2021 00:00', '09/07/2021 00:00',\n",
              "       '10/07/2021 00:00', '11/07/2021 00:00', '12/07/2021 00:00',\n",
              "       '13/07/2021 00:00', '14/07/2021 00:00', '15/07/2021 00:00',\n",
              "       '16/07/2021 00:00', '17/07/2021 00:00', '18/07/2021 00:00',\n",
              "       '19/07/2021 00:00', '20/07/2021 00:00', '21/07/2021 00:00',\n",
              "       '22/07/2021 00:00', '23/07/2021 00:00', '24/07/2021 00:00',\n",
              "       '25/07/2021 00:00', '26/07/2021 00:00', '27/07/2021 00:00',\n",
              "       '28/07/2021 00:00', '29/07/2021 00:00', '30/07/2021 00:00',\n",
              "       '31/07/2021 00:00', '01/08/2021 00:00', '02/08/2021 00:00',\n",
              "       '03/08/2021 00:00', '04/08/2021 00:00', '05/08/2021 00:00',\n",
              "       '06/08/2021 00:00', '07/08/2021 00:00', '08/08/2021 00:00',\n",
              "       '09/08/2021 00:00', '10/08/2021 00:00', '11/08/2021 00:00',\n",
              "       '12/08/2021 00:00', '13/08/2021 00:00', '14/08/2021 00:00',\n",
              "       '15/08/2021 00:00', '16/08/2021 00:00', '17/08/2021 00:00',\n",
              "       '18/08/2021 00:00', '19/08/2021 00:00', '20/08/2021 00:00',\n",
              "       '21/08/2021 00:00', '22/08/2021 00:00', '23/08/2021 00:00',\n",
              "       '24/08/2021 00:00', '25/08/2021 00:00', '26/08/2021 00:00',\n",
              "       '27/08/2021 00:00', '28/08/2021 00:00', '29/08/2021 00:00',\n",
              "       '30/08/2021 00:00', '31/08/2021 00:00', '01/09/2021 00:00',\n",
              "       '02/09/2021 00:00', '03/09/2021 00:00', '04/09/2021 00:00',\n",
              "       '05/09/2021 00:00', '06/09/2021 00:00', '07/09/2021 00:00',\n",
              "       '08/09/2021 00:00', '09/09/2021 00:00', '10/09/2021 00:00',\n",
              "       '11/09/2021 00:00', '12/09/2021 00:00', '13/09/2021 00:00',\n",
              "       '14/09/2021 00:00', '15/09/2021 00:00', '16/09/2021 00:00'],\n",
              "      dtype=object)"
            ]
          },
          "metadata": {},
          "execution_count": 43
        }
      ]
    },
    {
      "cell_type": "markdown",
      "metadata": {
        "id": "-P1-dK98-UtF"
      },
      "source": [
        "##Contagem da quantidade de valores de cada \"useriD\", para confirmar a necessidade de exclusão dos usuários repetidos do chatbot, a fim de calcular apenas o número de usuários novos por dia"
      ]
    },
    {
      "cell_type": "code",
      "metadata": {
        "colab": {
          "base_uri": "https://localhost:8080/"
        },
        "id": "kEM9Pp2nLsGQ",
        "outputId": "8fb72ab8-a002-4e97-9b4d-2b57c65187c1"
      },
      "source": [
        "atendimentos['useriD'].value_counts()"
      ],
      "execution_count": 44,
      "outputs": [
        {
          "output_type": "execute_result",
          "data": {
            "text/plain": [
              "id3334675089905111    11\n",
              "id2831005987000437     7\n",
              "id5368541106489417     6\n",
              "id4029980273784788     5\n",
              "id3938862846221746     5\n",
              "                      ..\n",
              "id4380801235310462     1\n",
              "id3824351687670468     1\n",
              "id4055420641212778     1\n",
              "id6318669784813674     1\n",
              "id5997692966937723     1\n",
              "Name: useriD, Length: 1078, dtype: int64"
            ]
          },
          "metadata": {},
          "execution_count": 44
        }
      ]
    },
    {
      "cell_type": "markdown",
      "metadata": {
        "id": "mSZtcAYG-xjD"
      },
      "source": [
        "##Alteração na coluna \"data_consulta\", retirando a informação das horas dos valores a fim de melhorar a visualização e dar continuidade na análise dos dados"
      ]
    },
    {
      "cell_type": "code",
      "metadata": {
        "colab": {
          "base_uri": "https://localhost:8080/",
          "height": 424
        },
        "id": "ldc9YYUerd9G",
        "outputId": "ef631ded-2fc6-4abb-a877-dc6c1dec41bc"
      },
      "source": [
        "atendimentos['data_consulta'] = atendimentos['data_consulta'].str.split(' ', 1, expand = True)\n",
        "atendimentos"
      ],
      "execution_count": 45,
      "outputs": [
        {
          "output_type": "execute_result",
          "data": {
            "text/html": [
              "<div>\n",
              "<style scoped>\n",
              "    .dataframe tbody tr th:only-of-type {\n",
              "        vertical-align: middle;\n",
              "    }\n",
              "\n",
              "    .dataframe tbody tr th {\n",
              "        vertical-align: top;\n",
              "    }\n",
              "\n",
              "    .dataframe thead th {\n",
              "        text-align: right;\n",
              "    }\n",
              "</style>\n",
              "<table border=\"1\" class=\"dataframe\">\n",
              "  <thead>\n",
              "    <tr style=\"text-align: right;\">\n",
              "      <th></th>\n",
              "      <th>data_consulta</th>\n",
              "      <th>useriD</th>\n",
              "    </tr>\n",
              "  </thead>\n",
              "  <tbody>\n",
              "    <tr>\n",
              "      <th>0</th>\n",
              "      <td>22/06/2021</td>\n",
              "      <td>id3419573841478276</td>\n",
              "    </tr>\n",
              "    <tr>\n",
              "      <th>1</th>\n",
              "      <td>22/06/2021</td>\n",
              "      <td>id3488842687885635</td>\n",
              "    </tr>\n",
              "    <tr>\n",
              "      <th>2</th>\n",
              "      <td>22/06/2021</td>\n",
              "      <td>id3818514014826811</td>\n",
              "    </tr>\n",
              "    <tr>\n",
              "      <th>3</th>\n",
              "      <td>22/06/2021</td>\n",
              "      <td>id3823611161064779</td>\n",
              "    </tr>\n",
              "    <tr>\n",
              "      <th>4</th>\n",
              "      <td>22/06/2021</td>\n",
              "      <td>id4029980273784788</td>\n",
              "    </tr>\n",
              "    <tr>\n",
              "      <th>...</th>\n",
              "      <td>...</td>\n",
              "      <td>...</td>\n",
              "    </tr>\n",
              "    <tr>\n",
              "      <th>1197</th>\n",
              "      <td>15/09/2021</td>\n",
              "      <td>id4954360321259157</td>\n",
              "    </tr>\n",
              "    <tr>\n",
              "      <th>1198</th>\n",
              "      <td>15/09/2021</td>\n",
              "      <td>id5353422338016225</td>\n",
              "    </tr>\n",
              "    <tr>\n",
              "      <th>1199</th>\n",
              "      <td>15/09/2021</td>\n",
              "      <td>id5368541106489417</td>\n",
              "    </tr>\n",
              "    <tr>\n",
              "      <th>1200</th>\n",
              "      <td>15/09/2021</td>\n",
              "      <td>id5991625410910378</td>\n",
              "    </tr>\n",
              "    <tr>\n",
              "      <th>1201</th>\n",
              "      <td>16/09/2021</td>\n",
              "      <td>id4523407261051545</td>\n",
              "    </tr>\n",
              "  </tbody>\n",
              "</table>\n",
              "<p>1202 rows × 2 columns</p>\n",
              "</div>"
            ],
            "text/plain": [
              "     data_consulta              useriD\n",
              "0       22/06/2021  id3419573841478276\n",
              "1       22/06/2021  id3488842687885635\n",
              "2       22/06/2021  id3818514014826811\n",
              "3       22/06/2021  id3823611161064779\n",
              "4       22/06/2021  id4029980273784788\n",
              "...            ...                 ...\n",
              "1197    15/09/2021  id4954360321259157\n",
              "1198    15/09/2021  id5353422338016225\n",
              "1199    15/09/2021  id5368541106489417\n",
              "1200    15/09/2021  id5991625410910378\n",
              "1201    16/09/2021  id4523407261051545\n",
              "\n",
              "[1202 rows x 2 columns]"
            ]
          },
          "metadata": {},
          "execution_count": 45
        }
      ]
    },
    {
      "cell_type": "markdown",
      "metadata": {
        "id": "bHv10zsB_LEn"
      },
      "source": [
        "##Criação do array com os únicos valores da coluna \"data_consulta\" para averiguação se em todos os valores foi retirada as horas"
      ]
    },
    {
      "cell_type": "code",
      "metadata": {
        "colab": {
          "base_uri": "https://localhost:8080/"
        },
        "id": "ZTd8OGpjj6Il",
        "outputId": "c70d2a46-626f-4d35-8669-cb6a805cea6d"
      },
      "source": [
        "atendimentos['data_consulta'].unique()"
      ],
      "execution_count": 46,
      "outputs": [
        {
          "output_type": "execute_result",
          "data": {
            "text/plain": [
              "array(['22/06/2021', '23/06/2021', '24/06/2021', '25/06/2021',\n",
              "       '05/07/2021', '06/07/2021', '07/07/2021', '08/07/2021',\n",
              "       '09/07/2021', '10/07/2021', '11/07/2021', '12/07/2021',\n",
              "       '13/07/2021', '14/07/2021', '15/07/2021', '16/07/2021',\n",
              "       '17/07/2021', '18/07/2021', '19/07/2021', '20/07/2021',\n",
              "       '21/07/2021', '22/07/2021', '23/07/2021', '24/07/2021',\n",
              "       '25/07/2021', '26/07/2021', '27/07/2021', '28/07/2021',\n",
              "       '29/07/2021', '30/07/2021', '31/07/2021', '01/08/2021',\n",
              "       '02/08/2021', '03/08/2021', '04/08/2021', '05/08/2021',\n",
              "       '06/08/2021', '07/08/2021', '08/08/2021', '09/08/2021',\n",
              "       '10/08/2021', '11/08/2021', '12/08/2021', '13/08/2021',\n",
              "       '14/08/2021', '15/08/2021', '16/08/2021', '17/08/2021',\n",
              "       '18/08/2021', '19/08/2021', '20/08/2021', '21/08/2021',\n",
              "       '22/08/2021', '23/08/2021', '24/08/2021', '25/08/2021',\n",
              "       '26/08/2021', '27/08/2021', '28/08/2021', '29/08/2021',\n",
              "       '30/08/2021', '31/08/2021', '01/09/2021', '02/09/2021',\n",
              "       '03/09/2021', '04/09/2021', '05/09/2021', '06/09/2021',\n",
              "       '07/09/2021', '08/09/2021', '09/09/2021', '10/09/2021',\n",
              "       '11/09/2021', '12/09/2021', '13/09/2021', '14/09/2021',\n",
              "       '15/09/2021', '16/09/2021'], dtype=object)"
            ]
          },
          "metadata": {},
          "execution_count": 46
        }
      ]
    },
    {
      "cell_type": "markdown",
      "metadata": {
        "id": "z60UrtMg_YOS"
      },
      "source": [
        "##Conversão dos valores da coluna \"data_consulta\", os quais eram strings, para o formato padrão, no Python, de data\n",
        "\n",
        "####Obs: nota-se a utilização do argumento dayfirst, no qual com o valor igual a \"True\" é fundamental para que a conversão seja realizada corretamente, sem permitir que haja troca entre a informação de mês e dia."
      ]
    },
    {
      "cell_type": "code",
      "metadata": {
        "colab": {
          "base_uri": "https://localhost:8080/",
          "height": 424
        },
        "id": "rCZDh0C3PVqi",
        "outputId": "21844afe-1b71-4b71-dbdc-51432ef9e8ff"
      },
      "source": [
        "atendimentos['data_consulta'] = pd.to_datetime(atendimentos['data_consulta'], dayfirst = True)\n",
        "atendimentos"
      ],
      "execution_count": 47,
      "outputs": [
        {
          "output_type": "execute_result",
          "data": {
            "text/html": [
              "<div>\n",
              "<style scoped>\n",
              "    .dataframe tbody tr th:only-of-type {\n",
              "        vertical-align: middle;\n",
              "    }\n",
              "\n",
              "    .dataframe tbody tr th {\n",
              "        vertical-align: top;\n",
              "    }\n",
              "\n",
              "    .dataframe thead th {\n",
              "        text-align: right;\n",
              "    }\n",
              "</style>\n",
              "<table border=\"1\" class=\"dataframe\">\n",
              "  <thead>\n",
              "    <tr style=\"text-align: right;\">\n",
              "      <th></th>\n",
              "      <th>data_consulta</th>\n",
              "      <th>useriD</th>\n",
              "    </tr>\n",
              "  </thead>\n",
              "  <tbody>\n",
              "    <tr>\n",
              "      <th>0</th>\n",
              "      <td>2021-06-22</td>\n",
              "      <td>id3419573841478276</td>\n",
              "    </tr>\n",
              "    <tr>\n",
              "      <th>1</th>\n",
              "      <td>2021-06-22</td>\n",
              "      <td>id3488842687885635</td>\n",
              "    </tr>\n",
              "    <tr>\n",
              "      <th>2</th>\n",
              "      <td>2021-06-22</td>\n",
              "      <td>id3818514014826811</td>\n",
              "    </tr>\n",
              "    <tr>\n",
              "      <th>3</th>\n",
              "      <td>2021-06-22</td>\n",
              "      <td>id3823611161064779</td>\n",
              "    </tr>\n",
              "    <tr>\n",
              "      <th>4</th>\n",
              "      <td>2021-06-22</td>\n",
              "      <td>id4029980273784788</td>\n",
              "    </tr>\n",
              "    <tr>\n",
              "      <th>...</th>\n",
              "      <td>...</td>\n",
              "      <td>...</td>\n",
              "    </tr>\n",
              "    <tr>\n",
              "      <th>1197</th>\n",
              "      <td>2021-09-15</td>\n",
              "      <td>id4954360321259157</td>\n",
              "    </tr>\n",
              "    <tr>\n",
              "      <th>1198</th>\n",
              "      <td>2021-09-15</td>\n",
              "      <td>id5353422338016225</td>\n",
              "    </tr>\n",
              "    <tr>\n",
              "      <th>1199</th>\n",
              "      <td>2021-09-15</td>\n",
              "      <td>id5368541106489417</td>\n",
              "    </tr>\n",
              "    <tr>\n",
              "      <th>1200</th>\n",
              "      <td>2021-09-15</td>\n",
              "      <td>id5991625410910378</td>\n",
              "    </tr>\n",
              "    <tr>\n",
              "      <th>1201</th>\n",
              "      <td>2021-09-16</td>\n",
              "      <td>id4523407261051545</td>\n",
              "    </tr>\n",
              "  </tbody>\n",
              "</table>\n",
              "<p>1202 rows × 2 columns</p>\n",
              "</div>"
            ],
            "text/plain": [
              "     data_consulta              useriD\n",
              "0       2021-06-22  id3419573841478276\n",
              "1       2021-06-22  id3488842687885635\n",
              "2       2021-06-22  id3818514014826811\n",
              "3       2021-06-22  id3823611161064779\n",
              "4       2021-06-22  id4029980273784788\n",
              "...            ...                 ...\n",
              "1197    2021-09-15  id4954360321259157\n",
              "1198    2021-09-15  id5353422338016225\n",
              "1199    2021-09-15  id5368541106489417\n",
              "1200    2021-09-15  id5991625410910378\n",
              "1201    2021-09-16  id4523407261051545\n",
              "\n",
              "[1202 rows x 2 columns]"
            ]
          },
          "metadata": {},
          "execution_count": 47
        }
      ]
    },
    {
      "cell_type": "markdown",
      "metadata": {
        "id": "ihkof6IJ_sx2"
      },
      "source": [
        "##Verificação da conversão na coluna \"data_consulta\" para averiguar se foi realizada corretamente, sem alteração nas datas estipuladas no banco de dados"
      ]
    },
    {
      "cell_type": "code",
      "metadata": {
        "colab": {
          "base_uri": "https://localhost:8080/"
        },
        "id": "6aLFIeZ2kJCq",
        "outputId": "66ff373d-165f-45f7-b157-b2ff7d5a5b01"
      },
      "source": [
        "atendimentos['data_consulta'].sort_values()"
      ],
      "execution_count": 48,
      "outputs": [
        {
          "output_type": "execute_result",
          "data": {
            "text/plain": [
              "0      2021-06-22\n",
              "18     2021-06-22\n",
              "17     2021-06-22\n",
              "16     2021-06-22\n",
              "15     2021-06-22\n",
              "          ...    \n",
              "1187   2021-09-15\n",
              "1186   2021-09-15\n",
              "1200   2021-09-15\n",
              "1192   2021-09-15\n",
              "1201   2021-09-16\n",
              "Name: data_consulta, Length: 1202, dtype: datetime64[ns]"
            ]
          },
          "metadata": {},
          "execution_count": 48
        }
      ]
    },
    {
      "cell_type": "markdown",
      "metadata": {
        "id": "y2aDVHZGBXu2"
      },
      "source": [
        "##Reordenamento dos valores da coluna \"data_consulta\" e retirada dos valores duplicados da \"useriD\" e criação do DataFrame \"atendimentos_novos_usuarios\""
      ]
    },
    {
      "cell_type": "code",
      "metadata": {
        "colab": {
          "base_uri": "https://localhost:8080/",
          "height": 206
        },
        "id": "jELL2v3EL3rz",
        "outputId": "c212c72c-1858-4ee2-c84a-c9c85b13c739"
      },
      "source": [
        "atendimentos_novos_usuarios = atendimentos.sort_values('data_consulta').drop_duplicates(subset=['useriD'], keep = 'first')\n",
        "atendimentos_novos_usuarios.head()"
      ],
      "execution_count": 49,
      "outputs": [
        {
          "output_type": "execute_result",
          "data": {
            "text/html": [
              "<div>\n",
              "<style scoped>\n",
              "    .dataframe tbody tr th:only-of-type {\n",
              "        vertical-align: middle;\n",
              "    }\n",
              "\n",
              "    .dataframe tbody tr th {\n",
              "        vertical-align: top;\n",
              "    }\n",
              "\n",
              "    .dataframe thead th {\n",
              "        text-align: right;\n",
              "    }\n",
              "</style>\n",
              "<table border=\"1\" class=\"dataframe\">\n",
              "  <thead>\n",
              "    <tr style=\"text-align: right;\">\n",
              "      <th></th>\n",
              "      <th>data_consulta</th>\n",
              "      <th>useriD</th>\n",
              "    </tr>\n",
              "  </thead>\n",
              "  <tbody>\n",
              "    <tr>\n",
              "      <th>0</th>\n",
              "      <td>2021-06-22</td>\n",
              "      <td>id3419573841478276</td>\n",
              "    </tr>\n",
              "    <tr>\n",
              "      <th>18</th>\n",
              "      <td>2021-06-22</td>\n",
              "      <td>id6290557574291382</td>\n",
              "    </tr>\n",
              "    <tr>\n",
              "      <th>17</th>\n",
              "      <td>2021-06-22</td>\n",
              "      <td>id5959445730733972</td>\n",
              "    </tr>\n",
              "    <tr>\n",
              "      <th>16</th>\n",
              "      <td>2021-06-22</td>\n",
              "      <td>id5725765197466027</td>\n",
              "    </tr>\n",
              "    <tr>\n",
              "      <th>15</th>\n",
              "      <td>2021-06-22</td>\n",
              "      <td>id4801410303206465</td>\n",
              "    </tr>\n",
              "  </tbody>\n",
              "</table>\n",
              "</div>"
            ],
            "text/plain": [
              "   data_consulta              useriD\n",
              "0     2021-06-22  id3419573841478276\n",
              "18    2021-06-22  id6290557574291382\n",
              "17    2021-06-22  id5959445730733972\n",
              "16    2021-06-22  id5725765197466027\n",
              "15    2021-06-22  id4801410303206465"
            ]
          },
          "metadata": {},
          "execution_count": 49
        }
      ]
    },
    {
      "cell_type": "code",
      "metadata": {
        "colab": {
          "base_uri": "https://localhost:8080/"
        },
        "id": "3qY07mjQCsFB",
        "outputId": "b5ada354-113f-4d6b-e140-2b7bdbe31b6d"
      },
      "source": [
        "len(atendimentos_novos_usuarios)"
      ],
      "execution_count": 50,
      "outputs": [
        {
          "output_type": "execute_result",
          "data": {
            "text/plain": [
              "1078"
            ]
          },
          "metadata": {},
          "execution_count": 50
        }
      ]
    },
    {
      "cell_type": "markdown",
      "metadata": {
        "id": "1_O_6x4HC4Py"
      },
      "source": [
        "##Averiguação da exclusão dos valores repetidos na coluna \"useriD\""
      ]
    },
    {
      "cell_type": "code",
      "metadata": {
        "colab": {
          "base_uri": "https://localhost:8080/"
        },
        "id": "WCQg15BtOAkd",
        "outputId": "3aeba12c-e87e-41d2-b968-5c60bb1cf0be"
      },
      "source": [
        "atendimentos_novos_usuarios['useriD'].value_counts()"
      ],
      "execution_count": 51,
      "outputs": [
        {
          "output_type": "execute_result",
          "data": {
            "text/plain": [
              "id5784602394947135    1\n",
              "id3960666583985714    1\n",
              "id4112714002169222    1\n",
              "id3740601172706730    1\n",
              "id3892678690827669    1\n",
              "                     ..\n",
              "id4337323646326266    1\n",
              "id4057248034402613    1\n",
              "id4331145900285814    1\n",
              "id3684031188366255    1\n",
              "id5997692966937723    1\n",
              "Name: useriD, Length: 1078, dtype: int64"
            ]
          },
          "metadata": {},
          "execution_count": 51
        }
      ]
    },
    {
      "cell_type": "markdown",
      "metadata": {
        "id": "m9EaB7o_DDlQ"
      },
      "source": [
        "##Reordenação do index"
      ]
    },
    {
      "cell_type": "code",
      "metadata": {
        "colab": {
          "base_uri": "https://localhost:8080/",
          "height": 424
        },
        "id": "QA8fSGwbOvVD",
        "outputId": "c1db5df4-8372-4faf-d0cb-c72f3b9a8cec"
      },
      "source": [
        "atendimentos_novos_usuarios = atendimentos_novos_usuarios.reset_index().drop(columns='index')\n",
        "atendimentos_novos_usuarios"
      ],
      "execution_count": 52,
      "outputs": [
        {
          "output_type": "execute_result",
          "data": {
            "text/html": [
              "<div>\n",
              "<style scoped>\n",
              "    .dataframe tbody tr th:only-of-type {\n",
              "        vertical-align: middle;\n",
              "    }\n",
              "\n",
              "    .dataframe tbody tr th {\n",
              "        vertical-align: top;\n",
              "    }\n",
              "\n",
              "    .dataframe thead th {\n",
              "        text-align: right;\n",
              "    }\n",
              "</style>\n",
              "<table border=\"1\" class=\"dataframe\">\n",
              "  <thead>\n",
              "    <tr style=\"text-align: right;\">\n",
              "      <th></th>\n",
              "      <th>data_consulta</th>\n",
              "      <th>useriD</th>\n",
              "    </tr>\n",
              "  </thead>\n",
              "  <tbody>\n",
              "    <tr>\n",
              "      <th>0</th>\n",
              "      <td>2021-06-22</td>\n",
              "      <td>id3419573841478276</td>\n",
              "    </tr>\n",
              "    <tr>\n",
              "      <th>1</th>\n",
              "      <td>2021-06-22</td>\n",
              "      <td>id6290557574291382</td>\n",
              "    </tr>\n",
              "    <tr>\n",
              "      <th>2</th>\n",
              "      <td>2021-06-22</td>\n",
              "      <td>id5959445730733972</td>\n",
              "    </tr>\n",
              "    <tr>\n",
              "      <th>3</th>\n",
              "      <td>2021-06-22</td>\n",
              "      <td>id5725765197466027</td>\n",
              "    </tr>\n",
              "    <tr>\n",
              "      <th>4</th>\n",
              "      <td>2021-06-22</td>\n",
              "      <td>id4801410303206465</td>\n",
              "    </tr>\n",
              "    <tr>\n",
              "      <th>...</th>\n",
              "      <td>...</td>\n",
              "      <td>...</td>\n",
              "    </tr>\n",
              "    <tr>\n",
              "      <th>1073</th>\n",
              "      <td>2021-09-15</td>\n",
              "      <td>id4143399615672819</td>\n",
              "    </tr>\n",
              "    <tr>\n",
              "      <th>1074</th>\n",
              "      <td>2021-09-15</td>\n",
              "      <td>id4131460680313637</td>\n",
              "    </tr>\n",
              "    <tr>\n",
              "      <th>1075</th>\n",
              "      <td>2021-09-15</td>\n",
              "      <td>id5991625410910378</td>\n",
              "    </tr>\n",
              "    <tr>\n",
              "      <th>1076</th>\n",
              "      <td>2021-09-15</td>\n",
              "      <td>id4454532244625983</td>\n",
              "    </tr>\n",
              "    <tr>\n",
              "      <th>1077</th>\n",
              "      <td>2021-09-16</td>\n",
              "      <td>id4523407261051545</td>\n",
              "    </tr>\n",
              "  </tbody>\n",
              "</table>\n",
              "<p>1078 rows × 2 columns</p>\n",
              "</div>"
            ],
            "text/plain": [
              "     data_consulta              useriD\n",
              "0       2021-06-22  id3419573841478276\n",
              "1       2021-06-22  id6290557574291382\n",
              "2       2021-06-22  id5959445730733972\n",
              "3       2021-06-22  id5725765197466027\n",
              "4       2021-06-22  id4801410303206465\n",
              "...            ...                 ...\n",
              "1073    2021-09-15  id4143399615672819\n",
              "1074    2021-09-15  id4131460680313637\n",
              "1075    2021-09-15  id5991625410910378\n",
              "1076    2021-09-15  id4454532244625983\n",
              "1077    2021-09-16  id4523407261051545\n",
              "\n",
              "[1078 rows x 2 columns]"
            ]
          },
          "metadata": {},
          "execution_count": 52
        }
      ]
    },
    {
      "cell_type": "markdown",
      "metadata": {
        "id": "IMDpXYNoDUcU"
      },
      "source": [
        "##Informação e descrição dos dados novo DataFrame \"atendimentos_novos_usuarios\" para averiguar os tipos dos dados e quais são as novas características do DataFrame"
      ]
    },
    {
      "cell_type": "code",
      "metadata": {
        "colab": {
          "base_uri": "https://localhost:8080/"
        },
        "id": "PHHcUesXmizM",
        "outputId": "ba3d83a2-3c09-4685-9f50-1a4bd90f2b21"
      },
      "source": [
        "atendimentos_novos_usuarios.info()"
      ],
      "execution_count": 53,
      "outputs": [
        {
          "output_type": "stream",
          "name": "stdout",
          "text": [
            "<class 'pandas.core.frame.DataFrame'>\n",
            "RangeIndex: 1078 entries, 0 to 1077\n",
            "Data columns (total 2 columns):\n",
            " #   Column         Non-Null Count  Dtype         \n",
            "---  ------         --------------  -----         \n",
            " 0   data_consulta  1078 non-null   datetime64[ns]\n",
            " 1   useriD         1078 non-null   object        \n",
            "dtypes: datetime64[ns](1), object(1)\n",
            "memory usage: 17.0+ KB\n"
          ]
        }
      ]
    },
    {
      "cell_type": "code",
      "metadata": {
        "colab": {
          "base_uri": "https://localhost:8080/",
          "height": 292
        },
        "id": "RRZvuJQgmqDb",
        "outputId": "ab1f5658-49c7-41f9-8991-b144408e6bf8"
      },
      "source": [
        "atendimentos_novos_usuarios.describe()"
      ],
      "execution_count": 54,
      "outputs": [
        {
          "output_type": "stream",
          "name": "stderr",
          "text": [
            "/usr/local/lib/python3.7/dist-packages/ipykernel_launcher.py:1: FutureWarning: Treating datetime data as categorical rather than numeric in `.describe` is deprecated and will be removed in a future version of pandas. Specify `datetime_is_numeric=True` to silence this warning and adopt the future behavior now.\n",
            "  \"\"\"Entry point for launching an IPython kernel.\n"
          ]
        },
        {
          "output_type": "execute_result",
          "data": {
            "text/html": [
              "<div>\n",
              "<style scoped>\n",
              "    .dataframe tbody tr th:only-of-type {\n",
              "        vertical-align: middle;\n",
              "    }\n",
              "\n",
              "    .dataframe tbody tr th {\n",
              "        vertical-align: top;\n",
              "    }\n",
              "\n",
              "    .dataframe thead th {\n",
              "        text-align: right;\n",
              "    }\n",
              "</style>\n",
              "<table border=\"1\" class=\"dataframe\">\n",
              "  <thead>\n",
              "    <tr style=\"text-align: right;\">\n",
              "      <th></th>\n",
              "      <th>data_consulta</th>\n",
              "      <th>useriD</th>\n",
              "    </tr>\n",
              "  </thead>\n",
              "  <tbody>\n",
              "    <tr>\n",
              "      <th>count</th>\n",
              "      <td>1078</td>\n",
              "      <td>1078</td>\n",
              "    </tr>\n",
              "    <tr>\n",
              "      <th>unique</th>\n",
              "      <td>78</td>\n",
              "      <td>1078</td>\n",
              "    </tr>\n",
              "    <tr>\n",
              "      <th>top</th>\n",
              "      <td>2021-06-24 00:00:00</td>\n",
              "      <td>id5784602394947135</td>\n",
              "    </tr>\n",
              "    <tr>\n",
              "      <th>freq</th>\n",
              "      <td>43</td>\n",
              "      <td>1</td>\n",
              "    </tr>\n",
              "    <tr>\n",
              "      <th>first</th>\n",
              "      <td>2021-06-22 00:00:00</td>\n",
              "      <td>NaN</td>\n",
              "    </tr>\n",
              "    <tr>\n",
              "      <th>last</th>\n",
              "      <td>2021-09-16 00:00:00</td>\n",
              "      <td>NaN</td>\n",
              "    </tr>\n",
              "  </tbody>\n",
              "</table>\n",
              "</div>"
            ],
            "text/plain": [
              "              data_consulta              useriD\n",
              "count                  1078                1078\n",
              "unique                   78                1078\n",
              "top     2021-06-24 00:00:00  id5784602394947135\n",
              "freq                     43                   1\n",
              "first   2021-06-22 00:00:00                 NaN\n",
              "last    2021-09-16 00:00:00                 NaN"
            ]
          },
          "metadata": {},
          "execution_count": 54
        }
      ]
    },
    {
      "cell_type": "markdown",
      "metadata": {
        "id": "GBqPKSO7EKdE"
      },
      "source": [
        "##Criação do DataFrame \"novos_usuarios_por_dia\" pelo agrupamento dos dados pelos valores da coluna \"data_consulta\""
      ]
    },
    {
      "cell_type": "code",
      "metadata": {
        "colab": {
          "base_uri": "https://localhost:8080/",
          "height": 455
        },
        "id": "PfQDDtFVK2gQ",
        "outputId": "c75dfaed-bbbf-4030-defc-d981361f79fa"
      },
      "source": [
        "novos_usuarios_por_dia = atendimentos_novos_usuarios.groupby(by='data_consulta').count()\n",
        "novos_usuarios_por_dia"
      ],
      "execution_count": 55,
      "outputs": [
        {
          "output_type": "execute_result",
          "data": {
            "text/html": [
              "<div>\n",
              "<style scoped>\n",
              "    .dataframe tbody tr th:only-of-type {\n",
              "        vertical-align: middle;\n",
              "    }\n",
              "\n",
              "    .dataframe tbody tr th {\n",
              "        vertical-align: top;\n",
              "    }\n",
              "\n",
              "    .dataframe thead th {\n",
              "        text-align: right;\n",
              "    }\n",
              "</style>\n",
              "<table border=\"1\" class=\"dataframe\">\n",
              "  <thead>\n",
              "    <tr style=\"text-align: right;\">\n",
              "      <th></th>\n",
              "      <th>useriD</th>\n",
              "    </tr>\n",
              "    <tr>\n",
              "      <th>data_consulta</th>\n",
              "      <th></th>\n",
              "    </tr>\n",
              "  </thead>\n",
              "  <tbody>\n",
              "    <tr>\n",
              "      <th>2021-06-22</th>\n",
              "      <td>19</td>\n",
              "    </tr>\n",
              "    <tr>\n",
              "      <th>2021-06-23</th>\n",
              "      <td>15</td>\n",
              "    </tr>\n",
              "    <tr>\n",
              "      <th>2021-06-24</th>\n",
              "      <td>43</td>\n",
              "    </tr>\n",
              "    <tr>\n",
              "      <th>2021-06-25</th>\n",
              "      <td>8</td>\n",
              "    </tr>\n",
              "    <tr>\n",
              "      <th>2021-07-05</th>\n",
              "      <td>13</td>\n",
              "    </tr>\n",
              "    <tr>\n",
              "      <th>...</th>\n",
              "      <td>...</td>\n",
              "    </tr>\n",
              "    <tr>\n",
              "      <th>2021-09-12</th>\n",
              "      <td>5</td>\n",
              "    </tr>\n",
              "    <tr>\n",
              "      <th>2021-09-13</th>\n",
              "      <td>17</td>\n",
              "    </tr>\n",
              "    <tr>\n",
              "      <th>2021-09-14</th>\n",
              "      <td>20</td>\n",
              "    </tr>\n",
              "    <tr>\n",
              "      <th>2021-09-15</th>\n",
              "      <td>13</td>\n",
              "    </tr>\n",
              "    <tr>\n",
              "      <th>2021-09-16</th>\n",
              "      <td>1</td>\n",
              "    </tr>\n",
              "  </tbody>\n",
              "</table>\n",
              "<p>78 rows × 1 columns</p>\n",
              "</div>"
            ],
            "text/plain": [
              "               useriD\n",
              "data_consulta        \n",
              "2021-06-22         19\n",
              "2021-06-23         15\n",
              "2021-06-24         43\n",
              "2021-06-25          8\n",
              "2021-07-05         13\n",
              "...               ...\n",
              "2021-09-12          5\n",
              "2021-09-13         17\n",
              "2021-09-14         20\n",
              "2021-09-15         13\n",
              "2021-09-16          1\n",
              "\n",
              "[78 rows x 1 columns]"
            ]
          },
          "metadata": {},
          "execution_count": 55
        }
      ]
    },
    {
      "cell_type": "code",
      "metadata": {
        "colab": {
          "base_uri": "https://localhost:8080/"
        },
        "id": "YkyBB4caEfD4",
        "outputId": "85c4f7fa-569e-4fa8-9d5e-021a1ba9e3d2"
      },
      "source": [
        "type(novos_usuarios_por_dia)"
      ],
      "execution_count": 56,
      "outputs": [
        {
          "output_type": "execute_result",
          "data": {
            "text/plain": [
              "pandas.core.frame.DataFrame"
            ]
          },
          "metadata": {},
          "execution_count": 56
        }
      ]
    },
    {
      "cell_type": "markdown",
      "metadata": {
        "id": "-TMVIvRlEbJb"
      },
      "source": [
        "##Colocação de index e renomeação das colunas no DataFrame \"novos_usuarios_por_dia\"\n",
        "\n",
        "#### Obs: O nome das colunas são para padronização na utilização do software utilizado, Prophet, para a realização das previsões"
      ]
    },
    {
      "cell_type": "code",
      "metadata": {
        "colab": {
          "base_uri": "https://localhost:8080/",
          "height": 424
        },
        "id": "JnM3MoeLLNZS",
        "outputId": "3de382ff-73a8-48f6-cfce-094336b46f1b"
      },
      "source": [
        "novos_usuarios_por_dia = novos_usuarios_por_dia.reset_index().rename(columns={'data_consulta':'ds','useriD':'y'})\n",
        "novos_usuarios_por_dia"
      ],
      "execution_count": 57,
      "outputs": [
        {
          "output_type": "execute_result",
          "data": {
            "text/html": [
              "<div>\n",
              "<style scoped>\n",
              "    .dataframe tbody tr th:only-of-type {\n",
              "        vertical-align: middle;\n",
              "    }\n",
              "\n",
              "    .dataframe tbody tr th {\n",
              "        vertical-align: top;\n",
              "    }\n",
              "\n",
              "    .dataframe thead th {\n",
              "        text-align: right;\n",
              "    }\n",
              "</style>\n",
              "<table border=\"1\" class=\"dataframe\">\n",
              "  <thead>\n",
              "    <tr style=\"text-align: right;\">\n",
              "      <th></th>\n",
              "      <th>ds</th>\n",
              "      <th>y</th>\n",
              "    </tr>\n",
              "  </thead>\n",
              "  <tbody>\n",
              "    <tr>\n",
              "      <th>0</th>\n",
              "      <td>2021-06-22</td>\n",
              "      <td>19</td>\n",
              "    </tr>\n",
              "    <tr>\n",
              "      <th>1</th>\n",
              "      <td>2021-06-23</td>\n",
              "      <td>15</td>\n",
              "    </tr>\n",
              "    <tr>\n",
              "      <th>2</th>\n",
              "      <td>2021-06-24</td>\n",
              "      <td>43</td>\n",
              "    </tr>\n",
              "    <tr>\n",
              "      <th>3</th>\n",
              "      <td>2021-06-25</td>\n",
              "      <td>8</td>\n",
              "    </tr>\n",
              "    <tr>\n",
              "      <th>4</th>\n",
              "      <td>2021-07-05</td>\n",
              "      <td>13</td>\n",
              "    </tr>\n",
              "    <tr>\n",
              "      <th>...</th>\n",
              "      <td>...</td>\n",
              "      <td>...</td>\n",
              "    </tr>\n",
              "    <tr>\n",
              "      <th>73</th>\n",
              "      <td>2021-09-12</td>\n",
              "      <td>5</td>\n",
              "    </tr>\n",
              "    <tr>\n",
              "      <th>74</th>\n",
              "      <td>2021-09-13</td>\n",
              "      <td>17</td>\n",
              "    </tr>\n",
              "    <tr>\n",
              "      <th>75</th>\n",
              "      <td>2021-09-14</td>\n",
              "      <td>20</td>\n",
              "    </tr>\n",
              "    <tr>\n",
              "      <th>76</th>\n",
              "      <td>2021-09-15</td>\n",
              "      <td>13</td>\n",
              "    </tr>\n",
              "    <tr>\n",
              "      <th>77</th>\n",
              "      <td>2021-09-16</td>\n",
              "      <td>1</td>\n",
              "    </tr>\n",
              "  </tbody>\n",
              "</table>\n",
              "<p>78 rows × 2 columns</p>\n",
              "</div>"
            ],
            "text/plain": [
              "           ds   y\n",
              "0  2021-06-22  19\n",
              "1  2021-06-23  15\n",
              "2  2021-06-24  43\n",
              "3  2021-06-25   8\n",
              "4  2021-07-05  13\n",
              "..        ...  ..\n",
              "73 2021-09-12   5\n",
              "74 2021-09-13  17\n",
              "75 2021-09-14  20\n",
              "76 2021-09-15  13\n",
              "77 2021-09-16   1\n",
              "\n",
              "[78 rows x 2 columns]"
            ]
          },
          "metadata": {},
          "execution_count": 57
        }
      ]
    },
    {
      "cell_type": "markdown",
      "metadata": {
        "id": "O-MWMp7lExOM"
      },
      "source": [
        "##Elaboração do gráfico do DataFrame \"novos_usuarios_por_dia\" para compreensão do comportamento dos números de novos usuários por dia"
      ]
    },
    {
      "cell_type": "code",
      "metadata": {
        "id": "KKMlahT50jKK"
      },
      "source": [
        "import matplotlib.pyplot as plt"
      ],
      "execution_count": 58,
      "outputs": []
    },
    {
      "cell_type": "code",
      "metadata": {
        "colab": {
          "base_uri": "https://localhost:8080/",
          "height": 334
        },
        "id": "eeLif-iN6JZH",
        "outputId": "c4825374-5057-47fa-ae44-b229b5ac110c"
      },
      "source": [
        "novos_usuarios_por_dia.plot(x = 'ds', y = 'y', figsize = (10 ,5))\n",
        "plt.show()"
      ],
      "execution_count": 59,
      "outputs": [
        {
          "output_type": "display_data",
          "data": {
            "image/png": "[encoded data removed]",
            "text/plain": [
              "<Figure size 720x360 with 1 Axes>"
            ]
          },
          "metadata": {
            "needs_background": "light"
          }
        }
      ]
    },
    {
      "cell_type": "markdown",
      "metadata": {
        "id": "OyhVXatZFrcY"
      },
      "source": [
        "##Importação do Prophet"
      ]
    },
    {
      "cell_type": "code",
      "metadata": {
        "id": "QgSjiNjZtARh"
      },
      "source": [
        "from fbprophet import Prophet"
      ],
      "execution_count": 60,
      "outputs": []
    },
    {
      "cell_type": "markdown",
      "metadata": {
        "id": "hjFwHs_dF5bb"
      },
      "source": [
        "##Criação do modelo de previsão de séries"
      ]
    },
    {
      "cell_type": "code",
      "metadata": {
        "colab": {
          "base_uri": "https://localhost:8080/"
        },
        "id": "d7r2A9K8tEbY",
        "outputId": "5b4d334e-2f67-4348-e13d-786f14b00aba"
      },
      "source": [
        "modelo = Prophet()\n",
        "modelo.fit(novos_usuarios_por_dia)"
      ],
      "execution_count": 61,
      "outputs": [
        {
          "output_type": "stream",
          "name": "stderr",
          "text": [
            "INFO:fbprophet:Disabling yearly seasonality. Run prophet with yearly_seasonality=True to override this.\n",
            "INFO:fbprophet:Disabling daily seasonality. Run prophet with daily_seasonality=True to override this.\n"
          ]
        },
        {
          "output_type": "execute_result",
          "data": {
            "text/plain": [
              "<fbprophet.forecaster.Prophet at 0x7fd8018ecb50>"
            ]
          },
          "metadata": {},
          "execution_count": 61
        }
      ]
    },
    {
      "cell_type": "markdown",
      "metadata": {
        "id": "XU-v31qWF_ve"
      },
      "source": [
        "##Criação da lista \"data_futuro\" com as datas que receberão a previsão da quantidade de novos usuários "
      ]
    },
    {
      "cell_type": "code",
      "metadata": {
        "id": "-FqBQ3R8zjff"
      },
      "source": [
        "data_futuro = pd.date_range(start='2021-09-17', end='2021-12-31')"
      ],
      "execution_count": 62,
      "outputs": []
    },
    {
      "cell_type": "markdown",
      "metadata": {
        "id": "VVTRb2mXGRQ7"
      },
      "source": [
        "##Verificação do tipo dos valores da lista \"data_futuro\" para confirmar se estão no formato de data"
      ]
    },
    {
      "cell_type": "code",
      "metadata": {
        "colab": {
          "base_uri": "https://localhost:8080/"
        },
        "id": "-w_s9k9Yz28U",
        "outputId": "44251723-9385-4767-96fd-054e8f862396"
      },
      "source": [
        "type(data_futuro)"
      ],
      "execution_count": 63,
      "outputs": [
        {
          "output_type": "execute_result",
          "data": {
            "text/plain": [
              "pandas.core.indexes.datetimes.DatetimeIndex"
            ]
          },
          "metadata": {},
          "execution_count": 63
        }
      ]
    },
    {
      "cell_type": "markdown",
      "metadata": {
        "id": "zaPowgH5Gb1T"
      },
      "source": [
        "##Criação, nomeação da coluna e visualização do DataFrame \"previsao_novos_usuarios\" para colocação dos valores previstos a partir da lista \"data_futuro\""
      ]
    },
    {
      "cell_type": "code",
      "metadata": {
        "id": "KZ45xVovz6cm"
      },
      "source": [
        "previsao_novos_usuarios = pd.DataFrame(data_futuro)"
      ],
      "execution_count": 64,
      "outputs": []
    },
    {
      "cell_type": "code",
      "metadata": {
        "id": "BI8f1Yf30Gj_"
      },
      "source": [
        "previsao_novos_usuarios.columns = ['ds']"
      ],
      "execution_count": 65,
      "outputs": []
    },
    {
      "cell_type": "code",
      "metadata": {
        "colab": {
          "base_uri": "https://localhost:8080/",
          "height": 424
        },
        "id": "cCYeKnVt0JDW",
        "outputId": "dabbdd80-a107-4885-8709-309e1ec678aa"
      },
      "source": [
        "previsao_novos_usuarios"
      ],
      "execution_count": 66,
      "outputs": [
        {
          "output_type": "execute_result",
          "data": {
            "text/html": [
              "<div>\n",
              "<style scoped>\n",
              "    .dataframe tbody tr th:only-of-type {\n",
              "        vertical-align: middle;\n",
              "    }\n",
              "\n",
              "    .dataframe tbody tr th {\n",
              "        vertical-align: top;\n",
              "    }\n",
              "\n",
              "    .dataframe thead th {\n",
              "        text-align: right;\n",
              "    }\n",
              "</style>\n",
              "<table border=\"1\" class=\"dataframe\">\n",
              "  <thead>\n",
              "    <tr style=\"text-align: right;\">\n",
              "      <th></th>\n",
              "      <th>ds</th>\n",
              "    </tr>\n",
              "  </thead>\n",
              "  <tbody>\n",
              "    <tr>\n",
              "      <th>0</th>\n",
              "      <td>2021-09-17</td>\n",
              "    </tr>\n",
              "    <tr>\n",
              "      <th>1</th>\n",
              "      <td>2021-09-18</td>\n",
              "    </tr>\n",
              "    <tr>\n",
              "      <th>2</th>\n",
              "      <td>2021-09-19</td>\n",
              "    </tr>\n",
              "    <tr>\n",
              "      <th>3</th>\n",
              "      <td>2021-09-20</td>\n",
              "    </tr>\n",
              "    <tr>\n",
              "      <th>4</th>\n",
              "      <td>2021-09-21</td>\n",
              "    </tr>\n",
              "    <tr>\n",
              "      <th>...</th>\n",
              "      <td>...</td>\n",
              "    </tr>\n",
              "    <tr>\n",
              "      <th>101</th>\n",
              "      <td>2021-12-27</td>\n",
              "    </tr>\n",
              "    <tr>\n",
              "      <th>102</th>\n",
              "      <td>2021-12-28</td>\n",
              "    </tr>\n",
              "    <tr>\n",
              "      <th>103</th>\n",
              "      <td>2021-12-29</td>\n",
              "    </tr>\n",
              "    <tr>\n",
              "      <th>104</th>\n",
              "      <td>2021-12-30</td>\n",
              "    </tr>\n",
              "    <tr>\n",
              "      <th>105</th>\n",
              "      <td>2021-12-31</td>\n",
              "    </tr>\n",
              "  </tbody>\n",
              "</table>\n",
              "<p>106 rows × 1 columns</p>\n",
              "</div>"
            ],
            "text/plain": [
              "            ds\n",
              "0   2021-09-17\n",
              "1   2021-09-18\n",
              "2   2021-09-19\n",
              "3   2021-09-20\n",
              "4   2021-09-21\n",
              "..         ...\n",
              "101 2021-12-27\n",
              "102 2021-12-28\n",
              "103 2021-12-29\n",
              "104 2021-12-30\n",
              "105 2021-12-31\n",
              "\n",
              "[106 rows x 1 columns]"
            ]
          },
          "metadata": {},
          "execution_count": 66
        }
      ]
    },
    {
      "cell_type": "markdown",
      "metadata": {
        "id": "lH0FyF2NHd73"
      },
      "source": [
        "##Criação e visualização da previsão do número de novos usuários para as datas do DataFrame \"previsao_novos_usuarios\""
      ]
    },
    {
      "cell_type": "code",
      "metadata": {
        "id": "AMLGLECj0MV2"
      },
      "source": [
        "previsao = modelo.predict(previsao_novos_usuarios)"
      ],
      "execution_count": 67,
      "outputs": []
    },
    {
      "cell_type": "code",
      "metadata": {
        "colab": {
          "base_uri": "https://localhost:8080/",
          "height": 617
        },
        "id": "R89F-yEU0YDP",
        "outputId": "9711b42b-f3ec-4289-a0e5-89d9ed8159af"
      },
      "source": [
        "previsao"
      ],
      "execution_count": 68,
      "outputs": [
        {
          "output_type": "execute_result",
          "data": {
            "text/html": [
              "<div>\n",
              "<style scoped>\n",
              "    .dataframe tbody tr th:only-of-type {\n",
              "        vertical-align: middle;\n",
              "    }\n",
              "\n",
              "    .dataframe tbody tr th {\n",
              "        vertical-align: top;\n",
              "    }\n",
              "\n",
              "    .dataframe thead th {\n",
              "        text-align: right;\n",
              "    }\n",
              "</style>\n",
              "<table border=\"1\" class=\"dataframe\">\n",
              "  <thead>\n",
              "    <tr style=\"text-align: right;\">\n",
              "      <th></th>\n",
              "      <th>ds</th>\n",
              "      <th>trend</th>\n",
              "      <th>yhat_lower</th>\n",
              "      <th>yhat_upper</th>\n",
              "      <th>trend_lower</th>\n",
              "      <th>trend_upper</th>\n",
              "      <th>additive_terms</th>\n",
              "      <th>additive_terms_lower</th>\n",
              "      <th>additive_terms_upper</th>\n",
              "      <th>weekly</th>\n",
              "      <th>weekly_lower</th>\n",
              "      <th>weekly_upper</th>\n",
              "      <th>multiplicative_terms</th>\n",
              "      <th>multiplicative_terms_lower</th>\n",
              "      <th>multiplicative_terms_upper</th>\n",
              "      <th>yhat</th>\n",
              "    </tr>\n",
              "  </thead>\n",
              "  <tbody>\n",
              "    <tr>\n",
              "      <th>0</th>\n",
              "      <td>2021-09-17</td>\n",
              "      <td>11.851144</td>\n",
              "      <td>4.512822</td>\n",
              "      <td>18.340662</td>\n",
              "      <td>11.851144</td>\n",
              "      <td>11.851144</td>\n",
              "      <td>-0.447798</td>\n",
              "      <td>-0.447798</td>\n",
              "      <td>-0.447798</td>\n",
              "      <td>-0.447798</td>\n",
              "      <td>-0.447798</td>\n",
              "      <td>-0.447798</td>\n",
              "      <td>0.0</td>\n",
              "      <td>0.0</td>\n",
              "      <td>0.0</td>\n",
              "      <td>11.403346</td>\n",
              "    </tr>\n",
              "    <tr>\n",
              "      <th>1</th>\n",
              "      <td>2021-09-18</td>\n",
              "      <td>11.809469</td>\n",
              "      <td>0.802679</td>\n",
              "      <td>13.465496</td>\n",
              "      <td>11.809469</td>\n",
              "      <td>11.809469</td>\n",
              "      <td>-4.515695</td>\n",
              "      <td>-4.515695</td>\n",
              "      <td>-4.515695</td>\n",
              "      <td>-4.515695</td>\n",
              "      <td>-4.515695</td>\n",
              "      <td>-4.515695</td>\n",
              "      <td>0.0</td>\n",
              "      <td>0.0</td>\n",
              "      <td>0.0</td>\n",
              "      <td>7.293774</td>\n",
              "    </tr>\n",
              "    <tr>\n",
              "      <th>2</th>\n",
              "      <td>2021-09-19</td>\n",
              "      <td>11.767794</td>\n",
              "      <td>-2.276558</td>\n",
              "      <td>10.412891</td>\n",
              "      <td>11.767793</td>\n",
              "      <td>11.767794</td>\n",
              "      <td>-7.673887</td>\n",
              "      <td>-7.673887</td>\n",
              "      <td>-7.673887</td>\n",
              "      <td>-7.673887</td>\n",
              "      <td>-7.673887</td>\n",
              "      <td>-7.673887</td>\n",
              "      <td>0.0</td>\n",
              "      <td>0.0</td>\n",
              "      <td>0.0</td>\n",
              "      <td>4.093907</td>\n",
              "    </tr>\n",
              "    <tr>\n",
              "      <th>3</th>\n",
              "      <td>2021-09-20</td>\n",
              "      <td>11.726118</td>\n",
              "      <td>6.296753</td>\n",
              "      <td>19.139376</td>\n",
              "      <td>11.726118</td>\n",
              "      <td>11.726119</td>\n",
              "      <td>1.249024</td>\n",
              "      <td>1.249024</td>\n",
              "      <td>1.249024</td>\n",
              "      <td>1.249024</td>\n",
              "      <td>1.249024</td>\n",
              "      <td>1.249024</td>\n",
              "      <td>0.0</td>\n",
              "      <td>0.0</td>\n",
              "      <td>0.0</td>\n",
              "      <td>12.975142</td>\n",
              "    </tr>\n",
              "    <tr>\n",
              "      <th>4</th>\n",
              "      <td>2021-09-21</td>\n",
              "      <td>11.684443</td>\n",
              "      <td>9.355078</td>\n",
              "      <td>22.765579</td>\n",
              "      <td>11.684443</td>\n",
              "      <td>11.684444</td>\n",
              "      <td>4.476650</td>\n",
              "      <td>4.476650</td>\n",
              "      <td>4.476650</td>\n",
              "      <td>4.476650</td>\n",
              "      <td>4.476650</td>\n",
              "      <td>4.476650</td>\n",
              "      <td>0.0</td>\n",
              "      <td>0.0</td>\n",
              "      <td>0.0</td>\n",
              "      <td>16.161093</td>\n",
              "    </tr>\n",
              "    <tr>\n",
              "      <th>...</th>\n",
              "      <td>...</td>\n",
              "      <td>...</td>\n",
              "      <td>...</td>\n",
              "      <td>...</td>\n",
              "      <td>...</td>\n",
              "      <td>...</td>\n",
              "      <td>...</td>\n",
              "      <td>...</td>\n",
              "      <td>...</td>\n",
              "      <td>...</td>\n",
              "      <td>...</td>\n",
              "      <td>...</td>\n",
              "      <td>...</td>\n",
              "      <td>...</td>\n",
              "      <td>...</td>\n",
              "      <td>...</td>\n",
              "    </tr>\n",
              "    <tr>\n",
              "      <th>101</th>\n",
              "      <td>2021-12-27</td>\n",
              "      <td>7.641954</td>\n",
              "      <td>2.408845</td>\n",
              "      <td>15.675277</td>\n",
              "      <td>7.641881</td>\n",
              "      <td>7.642031</td>\n",
              "      <td>1.249024</td>\n",
              "      <td>1.249024</td>\n",
              "      <td>1.249024</td>\n",
              "      <td>1.249024</td>\n",
              "      <td>1.249024</td>\n",
              "      <td>1.249024</td>\n",
              "      <td>0.0</td>\n",
              "      <td>0.0</td>\n",
              "      <td>0.0</td>\n",
              "      <td>8.890978</td>\n",
              "    </tr>\n",
              "    <tr>\n",
              "      <th>102</th>\n",
              "      <td>2021-12-28</td>\n",
              "      <td>7.600279</td>\n",
              "      <td>5.946374</td>\n",
              "      <td>18.651188</td>\n",
              "      <td>7.600204</td>\n",
              "      <td>7.600357</td>\n",
              "      <td>4.476650</td>\n",
              "      <td>4.476650</td>\n",
              "      <td>4.476650</td>\n",
              "      <td>4.476650</td>\n",
              "      <td>4.476650</td>\n",
              "      <td>4.476650</td>\n",
              "      <td>0.0</td>\n",
              "      <td>0.0</td>\n",
              "      <td>0.0</td>\n",
              "      <td>12.076929</td>\n",
              "    </tr>\n",
              "    <tr>\n",
              "      <th>103</th>\n",
              "      <td>2021-12-29</td>\n",
              "      <td>7.558604</td>\n",
              "      <td>5.133581</td>\n",
              "      <td>18.410123</td>\n",
              "      <td>7.558528</td>\n",
              "      <td>7.558683</td>\n",
              "      <td>4.434968</td>\n",
              "      <td>4.434968</td>\n",
              "      <td>4.434968</td>\n",
              "      <td>4.434968</td>\n",
              "      <td>4.434968</td>\n",
              "      <td>4.434968</td>\n",
              "      <td>0.0</td>\n",
              "      <td>0.0</td>\n",
              "      <td>0.0</td>\n",
              "      <td>11.993572</td>\n",
              "    </tr>\n",
              "    <tr>\n",
              "      <th>104</th>\n",
              "      <td>2021-12-30</td>\n",
              "      <td>7.516929</td>\n",
              "      <td>3.251336</td>\n",
              "      <td>15.876697</td>\n",
              "      <td>7.516852</td>\n",
              "      <td>7.517010</td>\n",
              "      <td>2.476738</td>\n",
              "      <td>2.476738</td>\n",
              "      <td>2.476738</td>\n",
              "      <td>2.476738</td>\n",
              "      <td>2.476738</td>\n",
              "      <td>2.476738</td>\n",
              "      <td>0.0</td>\n",
              "      <td>0.0</td>\n",
              "      <td>0.0</td>\n",
              "      <td>9.993667</td>\n",
              "    </tr>\n",
              "    <tr>\n",
              "      <th>105</th>\n",
              "      <td>2021-12-31</td>\n",
              "      <td>7.475254</td>\n",
              "      <td>0.526061</td>\n",
              "      <td>14.174877</td>\n",
              "      <td>7.475175</td>\n",
              "      <td>7.475335</td>\n",
              "      <td>-0.447798</td>\n",
              "      <td>-0.447798</td>\n",
              "      <td>-0.447798</td>\n",
              "      <td>-0.447798</td>\n",
              "      <td>-0.447798</td>\n",
              "      <td>-0.447798</td>\n",
              "      <td>0.0</td>\n",
              "      <td>0.0</td>\n",
              "      <td>0.0</td>\n",
              "      <td>7.027455</td>\n",
              "    </tr>\n",
              "  </tbody>\n",
              "</table>\n",
              "<p>106 rows × 16 columns</p>\n",
              "</div>"
            ],
            "text/plain": [
              "            ds      trend  ...  multiplicative_terms_upper       yhat\n",
              "0   2021-09-17  11.851144  ...                         0.0  11.403346\n",
              "1   2021-09-18  11.809469  ...                         0.0   7.293774\n",
              "2   2021-09-19  11.767794  ...                         0.0   4.093907\n",
              "3   2021-09-20  11.726118  ...                         0.0  12.975142\n",
              "4   2021-09-21  11.684443  ...                         0.0  16.161093\n",
              "..         ...        ...  ...                         ...        ...\n",
              "101 2021-12-27   7.641954  ...                         0.0   8.890978\n",
              "102 2021-12-28   7.600279  ...                         0.0  12.076929\n",
              "103 2021-12-29   7.558604  ...                         0.0  11.993572\n",
              "104 2021-12-30   7.516929  ...                         0.0   9.993667\n",
              "105 2021-12-31   7.475254  ...                         0.0   7.027455\n",
              "\n",
              "[106 rows x 16 columns]"
            ]
          },
          "metadata": {},
          "execution_count": 68
        }
      ]
    },
    {
      "cell_type": "code",
      "metadata": {
        "colab": {
          "base_uri": "https://localhost:8080/",
          "height": 441
        },
        "id": "b8a3S_pd0hHO",
        "outputId": "794ee728-63cc-4348-b99e-0a78aad26aef"
      },
      "source": [
        "modelo.plot(previsao)\n",
        "plt.show()"
      ],
      "execution_count": 69,
      "outputs": [
        {
          "output_type": "display_data",
          "data": {
            "image/png": "[encoded data removed]",
            "text/plain": [
              "<Figure size 720x432 with 1 Axes>"
            ]
          },
          "metadata": {}
        }
      ]
    },
    {
      "cell_type": "code",
      "metadata": {
        "colab": {
          "base_uri": "https://localhost:8080/",
          "height": 441
        },
        "id": "xZgqhE6l0qGa",
        "outputId": "13e51462-1975-4cf6-d5cb-9a11dbabe77a"
      },
      "source": [
        "modelo.plot_components(previsao)\n",
        "plt.show()"
      ],
      "execution_count": 70,
      "outputs": [
        {
          "output_type": "display_data",
          "data": {
            "image/png": "[encoded data removed]",
            "text/plain": [
              "<Figure size 648x432 with 2 Axes>"
            ]
          },
          "metadata": {}
        }
      ]
    },
    {
      "cell_type": "code",
      "metadata": {
        "id": "vSUZ01ou0x2g"
      },
      "source": [
        "from fbprophet.plot import plot_plotly, plot_components_plotly"
      ],
      "execution_count": 71,
      "outputs": []
    },
    {
      "cell_type": "code",
      "metadata": {
        "colab": {
          "base_uri": "https://localhost:8080/",
          "height": 617
        },
        "id": "kp3TpTno0zkA",
        "outputId": "13fd7002-63fc-459e-a0e6-278168e6c719"
      },
      "source": [
        "plot_plotly(modelo, previsao)"
      ],
      "execution_count": 72,
      "outputs": [
        {
          "output_type": "display_data",
          "data": {
            "text/html": [
              "<html>\n",
              "<head><meta charset=\"utf-8\" /></head>\n",
              "<body>\n",
              "    <div>\n",
              "            <script src=\"https://cdnjs.cloudflare.com/ajax/libs/mathjax/2.7.5/MathJax.js?config=TeX-AMS-MML_SVG\"></script><script type=\"text/javascript\">if (window.MathJax) {MathJax.Hub.Config({SVG: {font: \"STIX-Web\"}});}</script>\n",
              "                <script type=\"text/javascript\">window.PlotlyConfig = {MathJaxConfig: 'local'};</script>\n",
              "        <script src=\"https://cdn.plot.ly/plotly-latest.min.js\"></script>    \n",
              "            <div id=\"18ef9afb-1885-4de8-abd7-2aff2dcde1bb\" class=\"plotly-graph-div\" style=\"height:600px; width:900px;\"></div>\n",
              "            <script type=\"text/javascript\">\n",
              "                \n",
              "                    window.PLOTLYENV=window.PLOTLYENV || {};\n",
              "                    \n",
              "                if (document.getElementById(\"18ef9afb-1885-4de8-abd7-2aff2dcde1bb\")) {\n",
              "                    Plotly.newPlot(\n",
              "                        '18ef9afb-1885-4de8-abd7-2aff2dcde1bb',\n",
              "                        [{\"marker\": {\"color\": \"black\", \"size\": 4}, \"mode\": \"markers\", \"name\": \"Actual\", \"type\": \"scatter\", \"x\": [\"2021-06-22T00:00:00\", \"2021-06-23T00:00:00\", \"2021-06-24T00:00:00\", \"2021-06-25T00:00:00\", \"2021-07-05T00:00:00\", \"2021-07-06T00:00:00\", \"2021-07-07T00:00:00\", \"2021-07-08T00:00:00\", \"2021-07-09T00:00:00\", \"2021-07-10T00:00:00\", \"2021-07-11T00:00:00\", \"2021-07-12T00:00:00\", \"2021-07-13T00:00:00\", \"2021-07-14T00:00:00\", \"2021-07-15T00:00:00\", \"2021-07-16T00:00:00\", \"2021-07-17T00:00:00\", \"2021-07-18T00:00:00\", \"2021-07-19T00:00:00\", \"2021-07-20T00:00:00\", \"2021-07-21T00:00:00\", \"2021-07-22T00:00:00\", \"2021-07-23T00:00:00\", \"2021-07-24T00:00:00\", \"2021-07-25T00:00:00\", \"2021-07-26T00:00:00\", \"2021-07-27T00:00:00\", \"2021-07-28T00:00:00\", \"2021-07-29T00:00:00\", \"2021-07-30T00:00:00\", \"2021-07-31T00:00:00\", \"2021-08-01T00:00:00\", \"2021-08-02T00:00:00\", \"2021-08-03T00:00:00\", \"2021-08-04T00:00:00\", \"2021-08-05T00:00:00\", \"2021-08-06T00:00:00\", \"2021-08-07T00:00:00\", \"2021-08-08T00:00:00\", \"2021-08-09T00:00:00\", \"2021-08-10T00:00:00\", \"2021-08-11T00:00:00\", \"2021-08-12T00:00:00\", \"2021-08-13T00:00:00\", \"2021-08-14T00:00:00\", \"2021-08-15T00:00:00\", \"2021-08-16T00:00:00\", \"2021-08-17T00:00:00\", \"2021-08-18T00:00:00\", \"2021-08-19T00:00:00\", \"2021-08-20T00:00:00\", \"2021-08-21T00:00:00\", \"2021-08-22T00:00:00\", \"2021-08-23T00:00:00\", \"2021-08-24T00:00:00\", \"2021-08-25T00:00:00\", \"2021-08-26T00:00:00\", \"2021-08-27T00:00:00\", \"2021-08-28T00:00:00\", \"2021-08-29T00:00:00\", \"2021-08-30T00:00:00\", \"2021-08-31T00:00:00\", \"2021-09-01T00:00:00\", \"2021-09-02T00:00:00\", \"2021-09-03T00:00:00\", \"2021-09-04T00:00:00\", \"2021-09-05T00:00:00\", \"2021-09-06T00:00:00\", \"2021-09-07T00:00:00\", \"2021-09-08T00:00:00\", \"2021-09-09T00:00:00\", \"2021-09-10T00:00:00\", \"2021-09-11T00:00:00\", \"2021-09-12T00:00:00\", \"2021-09-13T00:00:00\", \"2021-09-14T00:00:00\", \"2021-09-15T00:00:00\", \"2021-09-16T00:00:00\"], \"y\": [19, 15, 43, 8, 13, 27, 23, 11, 10, 8, 8, 15, 18, 24, 19, 17, 8, 7, 16, 17, 14, 17, 14, 10, 4, 15, 20, 16, 10, 11, 7, 6, 13, 17, 24, 15, 12, 10, 7, 17, 23, 18, 12, 13, 3, 6, 12, 8, 11, 9, 10, 7, 2, 11, 18, 18, 25, 17, 17, 6, 20, 17, 14, 10, 18, 12, 6, 13, 13, 26, 20, 15, 7, 5, 17, 20, 13, 1]}, {\"hoverinfo\": \"skip\", \"line\": {\"width\": 0}, \"mode\": \"lines\", \"type\": \"scatter\", \"x\": [\"2021-09-17T00:00:00\", \"2021-09-18T00:00:00\", \"2021-09-19T00:00:00\", \"2021-09-20T00:00:00\", \"2021-09-21T00:00:00\", \"2021-09-22T00:00:00\", \"2021-09-23T00:00:00\", \"2021-09-24T00:00:00\", \"2021-09-25T00:00:00\", \"2021-09-26T00:00:00\", \"2021-09-27T00:00:00\", \"2021-09-28T00:00:00\", \"2021-09-29T00:00:00\", \"2021-09-30T00:00:00\", \"2021-10-01T00:00:00\", \"2021-10-02T00:00:00\", \"2021-10-03T00:00:00\", \"2021-10-04T00:00:00\", \"2021-10-05T00:00:00\", \"2021-10-06T00:00:00\", \"2021-10-07T00:00:00\", \"2021-10-08T00:00:00\", \"2021-10-09T00:00:00\", \"2021-10-10T00:00:00\", \"2021-10-11T00:00:00\", \"2021-10-12T00:00:00\", \"2021-10-13T00:00:00\", \"2021-10-14T00:00:00\", \"2021-10-15T00:00:00\", \"2021-10-16T00:00:00\", \"2021-10-17T00:00:00\", \"2021-10-18T00:00:00\", \"2021-10-19T00:00:00\", \"2021-10-20T00:00:00\", \"2021-10-21T00:00:00\", \"2021-10-22T00:00:00\", \"2021-10-23T00:00:00\", \"2021-10-24T00:00:00\", \"2021-10-25T00:00:00\", \"2021-10-26T00:00:00\", \"2021-10-27T00:00:00\", \"2021-10-28T00:00:00\", \"2021-10-29T00:00:00\", \"2021-10-30T00:00:00\", \"2021-10-31T00:00:00\", \"2021-11-01T00:00:00\", \"2021-11-02T00:00:00\", \"2021-11-03T00:00:00\", \"2021-11-04T00:00:00\", \"2021-11-05T00:00:00\", \"2021-11-06T00:00:00\", \"2021-11-07T00:00:00\", \"2021-11-08T00:00:00\", \"2021-11-09T00:00:00\", \"2021-11-10T00:00:00\", \"2021-11-11T00:00:00\", \"2021-11-12T00:00:00\", \"2021-11-13T00:00:00\", \"2021-11-14T00:00:00\", \"2021-11-15T00:00:00\", \"2021-11-16T00:00:00\", \"2021-11-17T00:00:00\", \"2021-11-18T00:00:00\", \"2021-11-19T00:00:00\", \"2021-11-20T00:00:00\", \"2021-11-21T00:00:00\", \"2021-11-22T00:00:00\", \"2021-11-23T00:00:00\", \"2021-11-24T00:00:00\", \"2021-11-25T00:00:00\", \"2021-11-26T00:00:00\", \"2021-11-27T00:00:00\", \"2021-11-28T00:00:00\", \"2021-11-29T00:00:00\", \"2021-11-30T00:00:00\", \"2021-12-01T00:00:00\", \"2021-12-02T00:00:00\", \"2021-12-03T00:00:00\", \"2021-12-04T00:00:00\", \"2021-12-05T00:00:00\", \"2021-12-06T00:00:00\", \"2021-12-07T00:00:00\", \"2021-12-08T00:00:00\", \"2021-12-09T00:00:00\", \"2021-12-10T00:00:00\", \"2021-12-11T00:00:00\", \"2021-12-12T00:00:00\", \"2021-12-13T00:00:00\", \"2021-12-14T00:00:00\", \"2021-12-15T00:00:00\", \"2021-12-16T00:00:00\", \"2021-12-17T00:00:00\", \"2021-12-18T00:00:00\", \"2021-12-19T00:00:00\", \"2021-12-20T00:00:00\", \"2021-12-21T00:00:00\", \"2021-12-22T00:00:00\", \"2021-12-23T00:00:00\", \"2021-12-24T00:00:00\", \"2021-12-25T00:00:00\", \"2021-12-26T00:00:00\", \"2021-12-27T00:00:00\", \"2021-12-28T00:00:00\", \"2021-12-29T00:00:00\", \"2021-12-30T00:00:00\", \"2021-12-31T00:00:00\"], \"y\": [4.512821585735703, 0.8026789085905273, -2.2765579482202014, 6.29675342289843, 9.355078346880925, 8.991993971205586, 8.157997544504134, 4.592327419119091, 0.4146100321150166, -2.752003589004884, 6.476250946919554, 9.375765022379495, 9.535013800355173, 7.502780614156121, 3.946244770056468, -0.15698246080701944, -2.3840659429014095, 5.61433667709302, 9.07361046688302, 9.162492573678255, 6.793918928085606, 3.755209351766873, 0.2986141738600858, -2.883426971551896, 5.834264637286403, 8.897554924431839, 8.944352540882308, 6.458214399846165, 3.9624309612710764, -0.8141746967528698, -3.4675778911422164, 5.184672870440297, 8.497172937452033, 8.18565731350609, 6.363839483214972, 3.47839063472954, -0.6201388329539257, -3.441004887357, 5.655840082495044, 8.413541884814649, 8.32686988601423, 6.3153668171372015, 3.539167310240789, -0.7145763734158479, -4.341393779851386, 4.921462288909639, 8.702575271420699, 8.328499083332003, 5.9257307666822125, 2.4104583300568265, -0.815994003624578, -4.877253051472115, 4.575103779553267, 7.842110211657061, 7.281282877687865, 5.461942814991945, 2.471411650759409, -1.1031769046058841, -4.619351016257164, 4.1924225369170305, 7.540271033695307, 7.357405965301096, 5.6857428667270575, 1.994196463887426, -1.942969694115188, -4.803291631148878, 3.7659083703565934, 6.678094403344398, 6.8607922053653345, 5.166123618541931, 2.188559019476352, -1.8725458672977868, -5.339813372474832, 3.7533382059680855, 6.774177536642884, 6.74052729567179, 4.898082672301093, 1.2175462898066933, -2.3594047339677564, -5.243741931869223, 3.5821438698500496, 6.61970455758093, 6.463295380084703, 4.30873804212388, 1.2535281335474961, -2.6856346163763782, -5.412029090110212, 3.0354735181074655, 5.797393488351406, 5.4576135474843674, 4.113871419204779, 1.1737486124358678, -2.837987019099778, -6.202648416535076, 2.26759510776511, 5.4203208830339715, 5.912838749650704, 3.389034592074648, 0.5827496214743696, -3.2533490850447304, -6.703351762853387, 2.408844856969818, 5.946373938863971, 5.1335812427857395, 3.2513360800388096, 0.5260609608951753]}, {\"fill\": \"tonexty\", \"fillcolor\": \"rgba(0, 114, 178, 0.2)\", \"line\": {\"color\": \"#0072B2\", \"width\": 2}, \"mode\": \"lines\", \"name\": \"Predicted\", \"type\": \"scatter\", \"x\": [\"2021-09-17T00:00:00\", \"2021-09-18T00:00:00\", \"2021-09-19T00:00:00\", \"2021-09-20T00:00:00\", \"2021-09-21T00:00:00\", \"2021-09-22T00:00:00\", \"2021-09-23T00:00:00\", \"2021-09-24T00:00:00\", \"2021-09-25T00:00:00\", \"2021-09-26T00:00:00\", \"2021-09-27T00:00:00\", \"2021-09-28T00:00:00\", \"2021-09-29T00:00:00\", \"2021-09-30T00:00:00\", \"2021-10-01T00:00:00\", \"2021-10-02T00:00:00\", \"2021-10-03T00:00:00\", \"2021-10-04T00:00:00\", \"2021-10-05T00:00:00\", \"2021-10-06T00:00:00\", \"2021-10-07T00:00:00\", \"2021-10-08T00:00:00\", \"2021-10-09T00:00:00\", \"2021-10-10T00:00:00\", \"2021-10-11T00:00:00\", \"2021-10-12T00:00:00\", \"2021-10-13T00:00:00\", \"2021-10-14T00:00:00\", \"2021-10-15T00:00:00\", \"2021-10-16T00:00:00\", \"2021-10-17T00:00:00\", \"2021-10-18T00:00:00\", \"2021-10-19T00:00:00\", \"2021-10-20T00:00:00\", \"2021-10-21T00:00:00\", \"2021-10-22T00:00:00\", \"2021-10-23T00:00:00\", \"2021-10-24T00:00:00\", \"2021-10-25T00:00:00\", \"2021-10-26T00:00:00\", \"2021-10-27T00:00:00\", \"2021-10-28T00:00:00\", \"2021-10-29T00:00:00\", \"2021-10-30T00:00:00\", \"2021-10-31T00:00:00\", \"2021-11-01T00:00:00\", \"2021-11-02T00:00:00\", \"2021-11-03T00:00:00\", \"2021-11-04T00:00:00\", \"2021-11-05T00:00:00\", \"2021-11-06T00:00:00\", \"2021-11-07T00:00:00\", \"2021-11-08T00:00:00\", \"2021-11-09T00:00:00\", \"2021-11-10T00:00:00\", \"2021-11-11T00:00:00\", \"2021-11-12T00:00:00\", \"2021-11-13T00:00:00\", \"2021-11-14T00:00:00\", \"2021-11-15T00:00:00\", \"2021-11-16T00:00:00\", \"2021-11-17T00:00:00\", \"2021-11-18T00:00:00\", \"2021-11-19T00:00:00\", \"2021-11-20T00:00:00\", \"2021-11-21T00:00:00\", \"2021-11-22T00:00:00\", \"2021-11-23T00:00:00\", \"2021-11-24T00:00:00\", \"2021-11-25T00:00:00\", \"2021-11-26T00:00:00\", \"2021-11-27T00:00:00\", \"2021-11-28T00:00:00\", \"2021-11-29T00:00:00\", \"2021-11-30T00:00:00\", \"2021-12-01T00:00:00\", \"2021-12-02T00:00:00\", \"2021-12-03T00:00:00\", \"2021-12-04T00:00:00\", \"2021-12-05T00:00:00\", \"2021-12-06T00:00:00\", \"2021-12-07T00:00:00\", \"2021-12-08T00:00:00\", \"2021-12-09T00:00:00\", \"2021-12-10T00:00:00\", \"2021-12-11T00:00:00\", \"2021-12-12T00:00:00\", \"2021-12-13T00:00:00\", \"2021-12-14T00:00:00\", \"2021-12-15T00:00:00\", \"2021-12-16T00:00:00\", \"2021-12-17T00:00:00\", \"2021-12-18T00:00:00\", \"2021-12-19T00:00:00\", \"2021-12-20T00:00:00\", \"2021-12-21T00:00:00\", \"2021-12-22T00:00:00\", \"2021-12-23T00:00:00\", \"2021-12-24T00:00:00\", \"2021-12-25T00:00:00\", \"2021-12-26T00:00:00\", \"2021-12-27T00:00:00\", \"2021-12-28T00:00:00\", \"2021-12-29T00:00:00\", \"2021-12-30T00:00:00\", \"2021-12-31T00:00:00\"], \"y\": [11.40334553051166, 7.293773807664823, 4.093906998853327, 12.975142353576308, 16.16109336964434, 16.07773647642948, 14.07783063835955, 11.111619527603553, 7.002047804754243, 3.8021809959511597, 12.683416350680542, 15.869367366743152, 15.786010473522671, 13.786104635449279, 10.81989352469544, 6.710321801843662, 3.5104549930367046, 12.391690347782438, 15.577641363841964, 15.494284470623219, 13.494378632554758, 10.528167521811575, 6.4185957989419595, 3.2187289901356992, 12.099964344852273, 15.285915360940777, 15.20255846770906, 13.202652629648874, 10.236441518896635, 6.126869796031381, 2.92700298723586, 11.80823834195417, 14.994189358028809, 14.910832464809609, 12.910926626746475, 9.944715515995357, 5.835143793125239, 2.635276984333693, 11.516512339058405, 14.702463355133002, 14.619106461910159, 12.61920062384408, 9.652989513087247, 5.543417790239801, 2.3435509814338547, 11.224786336157962, 14.410737352226437, 14.327380459003352, 12.32747462094607, 9.361263510185971, 5.251691787333661, 2.0518249785340164, 10.933060333262198, 14.119011349325248, 14.035654456106123, 12.0357486180358, 9.06953750727103, 4.959965784423081, 1.760098975617229, 10.641334330332032, 13.82728534642406, 13.743928453199317, 11.744022615141276, 8.777811504369751, 4.66823978151694, 1.4683729727173898, 10.349608327436266, 13.535559343522873, 13.452202450299865, 11.452296612231006, 8.486085501479055, 4.376513778610796, 1.176646969816387, 10.057882324535825, 13.243833340616305, 13.160476447395283, 11.160570609320736, 8.194359498570943, 4.084787775704654, 0.8849209669153826, 9.766156321640063, 12.952107337715098, 12.868750444495829, 10.868844606418337, 7.902633495662834, 3.793061772814778, 0.5931949639997613, 9.474430318744297, 12.66038133480853, 12.577024441589023, 10.57711860351594, 7.610907492761555, 3.5013357699130747, 0.3014689610999213, 9.182704315843853, 12.368655331907343, 12.28529843868222, 10.285392600617932, 7.319181489846617, 3.2096097670024957, 0.009742958198917684, 8.89097831294809, 12.076929328995377, 11.993572435775413, 9.993666597707662, 7.027455486945338]}, {\"fill\": \"tonexty\", \"fillcolor\": \"rgba(0, 114, 178, 0.2)\", \"hoverinfo\": \"skip\", \"line\": {\"width\": 0}, \"mode\": \"lines\", \"type\": \"scatter\", \"x\": [\"2021-09-17T00:00:00\", \"2021-09-18T00:00:00\", \"2021-09-19T00:00:00\", \"2021-09-20T00:00:00\", \"2021-09-21T00:00:00\", \"2021-09-22T00:00:00\", \"2021-09-23T00:00:00\", \"2021-09-24T00:00:00\", \"2021-09-25T00:00:00\", \"2021-09-26T00:00:00\", \"2021-09-27T00:00:00\", \"2021-09-28T00:00:00\", \"2021-09-29T00:00:00\", \"2021-09-30T00:00:00\", \"2021-10-01T00:00:00\", \"2021-10-02T00:00:00\", \"2021-10-03T00:00:00\", \"2021-10-04T00:00:00\", \"2021-10-05T00:00:00\", \"2021-10-06T00:00:00\", \"2021-10-07T00:00:00\", \"2021-10-08T00:00:00\", \"2021-10-09T00:00:00\", \"2021-10-10T00:00:00\", \"2021-10-11T00:00:00\", \"2021-10-12T00:00:00\", \"2021-10-13T00:00:00\", \"2021-10-14T00:00:00\", \"2021-10-15T00:00:00\", \"2021-10-16T00:00:00\", \"2021-10-17T00:00:00\", \"2021-10-18T00:00:00\", \"2021-10-19T00:00:00\", \"2021-10-20T00:00:00\", \"2021-10-21T00:00:00\", \"2021-10-22T00:00:00\", \"2021-10-23T00:00:00\", \"2021-10-24T00:00:00\", \"2021-10-25T00:00:00\", \"2021-10-26T00:00:00\", \"2021-10-27T00:00:00\", \"2021-10-28T00:00:00\", \"2021-10-29T00:00:00\", \"2021-10-30T00:00:00\", \"2021-10-31T00:00:00\", \"2021-11-01T00:00:00\", \"2021-11-02T00:00:00\", \"2021-11-03T00:00:00\", \"2021-11-04T00:00:00\", \"2021-11-05T00:00:00\", \"2021-11-06T00:00:00\", \"2021-11-07T00:00:00\", \"2021-11-08T00:00:00\", \"2021-11-09T00:00:00\", \"2021-11-10T00:00:00\", \"2021-11-11T00:00:00\", \"2021-11-12T00:00:00\", \"2021-11-13T00:00:00\", \"2021-11-14T00:00:00\", \"2021-11-15T00:00:00\", \"2021-11-16T00:00:00\", \"2021-11-17T00:00:00\", \"2021-11-18T00:00:00\", \"2021-11-19T00:00:00\", \"2021-11-20T00:00:00\", \"2021-11-21T00:00:00\", \"2021-11-22T00:00:00\", \"2021-11-23T00:00:00\", \"2021-11-24T00:00:00\", \"2021-11-25T00:00:00\", \"2021-11-26T00:00:00\", \"2021-11-27T00:00:00\", \"2021-11-28T00:00:00\", \"2021-11-29T00:00:00\", \"2021-11-30T00:00:00\", \"2021-12-01T00:00:00\", \"2021-12-02T00:00:00\", \"2021-12-03T00:00:00\", \"2021-12-04T00:00:00\", \"2021-12-05T00:00:00\", \"2021-12-06T00:00:00\", \"2021-12-07T00:00:00\", \"2021-12-08T00:00:00\", \"2021-12-09T00:00:00\", \"2021-12-10T00:00:00\", \"2021-12-11T00:00:00\", \"2021-12-12T00:00:00\", \"2021-12-13T00:00:00\", \"2021-12-14T00:00:00\", \"2021-12-15T00:00:00\", \"2021-12-16T00:00:00\", \"2021-12-17T00:00:00\", \"2021-12-18T00:00:00\", \"2021-12-19T00:00:00\", \"2021-12-20T00:00:00\", \"2021-12-21T00:00:00\", \"2021-12-22T00:00:00\", \"2021-12-23T00:00:00\", \"2021-12-24T00:00:00\", \"2021-12-25T00:00:00\", \"2021-12-26T00:00:00\", \"2021-12-27T00:00:00\", \"2021-12-28T00:00:00\", \"2021-12-29T00:00:00\", \"2021-12-30T00:00:00\", \"2021-12-31T00:00:00\"], \"y\": [18.34066239750188, 13.465496468861032, 10.41289056444231, 19.139376493240825, 22.765579235076437, 22.651920718915626, 20.493514416320636, 17.45708247211341, 13.219453803132993, 10.399632060728559, 18.79763777701304, 22.318056687138125, 22.07326570383572, 20.146379533225524, 16.97686288795618, 13.151453743620852, 9.50261957447533, 18.7600403914471, 21.59895546043249, 21.994022133868203, 19.84116816002985, 17.52723797653707, 13.098757133643149, 9.50321226338736, 18.67939876049497, 21.91643783093829, 21.524902612745887, 19.67094719160635, 17.04655465236518, 12.519240465969318, 9.487355764739881, 17.969960210992845, 21.503102089832126, 21.00027621669709, 18.688274911346806, 16.75925404690381, 12.701575118843406, 9.20473439844153, 18.155933738618426, 20.9528853869402, 21.007030921991944, 19.67359782314542, 16.3726567986801, 12.381205646469825, 9.383168856827094, 18.099718554561655, 20.778517165657334, 20.604316247186674, 18.753820925134676, 16.31936518543134, 11.629705107104265, 8.486502932280743, 17.456502356831106, 20.535199141286505, 20.50807123087075, 18.254297845074852, 15.738170464481444, 11.683354634400343, 8.097682098747326, 16.78300921395583, 20.378487000939973, 20.23256742777392, 18.153635296169906, 15.14005499452976, 11.34995009886002, 8.379866933187724, 16.49678239302866, 20.025345165175022, 19.718818387796198, 17.787972314080196, 15.070004489314382, 10.703508210649472, 7.778845019790436, 16.21798671678793, 19.631075664783634, 19.861617829529056, 17.31697445876117, 14.774792045995344, 10.820231764649535, 7.1992082777382915, 16.236179505024726, 19.351558709951508, 19.41031871821624, 17.051286582406814, 14.070518783797992, 9.809269248094516, 6.999942660245423, 16.53903288451558, 18.74824011409127, 18.265416031372094, 17.181197154369748, 13.756275917360833, 10.286560116363471, 6.869107626420453, 15.37513173455469, 18.825371375321225, 18.86561287249783, 17.134107417222996, 14.201113234745922, 9.287518187167697, 6.978712242565721, 15.67527721132846, 18.651188118320775, 18.410123204948757, 15.87669748211803, 14.174876695270033]}],\n",
              "                        {\"height\": 600, \"showlegend\": false, \"template\": {\"data\": {\"bar\": [{\"error_x\": {\"color\": \"#2a3f5f\"}, \"error_y\": {\"color\": \"#2a3f5f\"}, \"marker\": {\"line\": {\"color\": \"#E5ECF6\", \"width\": 0.5}}, \"type\": \"bar\"}], \"barpolar\": [{\"marker\": {\"line\": {\"color\": \"#E5ECF6\", \"width\": 0.5}}, \"type\": \"barpolar\"}], \"carpet\": [{\"aaxis\": {\"endlinecolor\": \"#2a3f5f\", \"gridcolor\": \"white\", \"linecolor\": \"white\", \"minorgridcolor\": \"white\", \"startlinecolor\": \"#2a3f5f\"}, \"baxis\": {\"endlinecolor\": \"#2a3f5f\", \"gridcolor\": \"white\", \"linecolor\": \"white\", \"minorgridcolor\": \"white\", \"startlinecolor\": \"#2a3f5f\"}, \"type\": \"carpet\"}], \"choropleth\": [{\"colorbar\": {\"outlinewidth\": 0, \"ticks\": \"\"}, \"type\": \"choropleth\"}], \"contour\": [{\"colorbar\": {\"outlinewidth\": 0, \"ticks\": \"\"}, \"colorscale\": [[0.0, \"#0d0887\"], [0.1111111111111111, \"#46039f\"], [0.2222222222222222, \"#7201a8\"], [0.3333333333333333, \"#9c179e\"], [0.4444444444444444, \"#bd3786\"], [0.5555555555555556, \"#d8576b\"], [0.6666666666666666, \"#ed7953\"], [0.7777777777777778, \"#fb9f3a\"], [0.8888888888888888, \"#fdca26\"], [1.0, \"#f0f921\"]], \"type\": \"contour\"}], \"contourcarpet\": [{\"colorbar\": {\"outlinewidth\": 0, \"ticks\": \"\"}, \"type\": \"contourcarpet\"}], \"heatmap\": [{\"colorbar\": {\"outlinewidth\": 0, \"ticks\": \"\"}, \"colorscale\": [[0.0, \"#0d0887\"], [0.1111111111111111, \"#46039f\"], [0.2222222222222222, \"#7201a8\"], [0.3333333333333333, \"#9c179e\"], [0.4444444444444444, \"#bd3786\"], [0.5555555555555556, \"#d8576b\"], [0.6666666666666666, \"#ed7953\"], [0.7777777777777778, \"#fb9f3a\"], [0.8888888888888888, \"#fdca26\"], [1.0, \"#f0f921\"]], \"type\": \"heatmap\"}], \"heatmapgl\": [{\"colorbar\": {\"outlinewidth\": 0, \"ticks\": \"\"}, \"colorscale\": [[0.0, \"#0d0887\"], [0.1111111111111111, \"#46039f\"], [0.2222222222222222, \"#7201a8\"], [0.3333333333333333, \"#9c179e\"], [0.4444444444444444, \"#bd3786\"], [0.5555555555555556, \"#d8576b\"], [0.6666666666666666, \"#ed7953\"], [0.7777777777777778, \"#fb9f3a\"], [0.8888888888888888, \"#fdca26\"], [1.0, \"#f0f921\"]], \"type\": \"heatmapgl\"}], \"histogram\": [{\"marker\": {\"colorbar\": {\"outlinewidth\": 0, \"ticks\": \"\"}}, \"type\": \"histogram\"}], \"histogram2d\": [{\"colorbar\": {\"outlinewidth\": 0, \"ticks\": \"\"}, \"colorscale\": [[0.0, \"#0d0887\"], [0.1111111111111111, \"#46039f\"], [0.2222222222222222, \"#7201a8\"], [0.3333333333333333, \"#9c179e\"], [0.4444444444444444, \"#bd3786\"], [0.5555555555555556, \"#d8576b\"], [0.6666666666666666, \"#ed7953\"], [0.7777777777777778, \"#fb9f3a\"], [0.8888888888888888, \"#fdca26\"], [1.0, \"#f0f921\"]], \"type\": \"histogram2d\"}], \"histogram2dcontour\": [{\"colorbar\": {\"outlinewidth\": 0, \"ticks\": \"\"}, \"colorscale\": [[0.0, \"#0d0887\"], [0.1111111111111111, \"#46039f\"], [0.2222222222222222, \"#7201a8\"], [0.3333333333333333, \"#9c179e\"], [0.4444444444444444, \"#bd3786\"], [0.5555555555555556, \"#d8576b\"], [0.6666666666666666, \"#ed7953\"], [0.7777777777777778, \"#fb9f3a\"], [0.8888888888888888, \"#fdca26\"], [1.0, \"#f0f921\"]], \"type\": \"histogram2dcontour\"}], \"mesh3d\": [{\"colorbar\": {\"outlinewidth\": 0, \"ticks\": \"\"}, \"type\": \"mesh3d\"}], \"parcoords\": [{\"line\": {\"colorbar\": {\"outlinewidth\": 0, \"ticks\": \"\"}}, \"type\": \"parcoords\"}], \"pie\": [{\"automargin\": true, \"type\": \"pie\"}], \"scatter\": [{\"marker\": {\"colorbar\": {\"outlinewidth\": 0, \"ticks\": \"\"}}, \"type\": \"scatter\"}], \"scatter3d\": [{\"line\": {\"colorbar\": {\"outlinewidth\": 0, \"ticks\": \"\"}}, \"marker\": {\"colorbar\": {\"outlinewidth\": 0, \"ticks\": \"\"}}, \"type\": \"scatter3d\"}], \"scattercarpet\": [{\"marker\": {\"colorbar\": {\"outlinewidth\": 0, \"ticks\": \"\"}}, \"type\": \"scattercarpet\"}], \"scattergeo\": [{\"marker\": {\"colorbar\": {\"outlinewidth\": 0, \"ticks\": \"\"}}, \"type\": \"scattergeo\"}], \"scattergl\": [{\"marker\": {\"colorbar\": {\"outlinewidth\": 0, \"ticks\": \"\"}}, \"type\": \"scattergl\"}], \"scattermapbox\": [{\"marker\": {\"colorbar\": {\"outlinewidth\": 0, \"ticks\": \"\"}}, \"type\": \"scattermapbox\"}], \"scatterpolar\": [{\"marker\": {\"colorbar\": {\"outlinewidth\": 0, \"ticks\": \"\"}}, \"type\": \"scatterpolar\"}], \"scatterpolargl\": [{\"marker\": {\"colorbar\": {\"outlinewidth\": 0, \"ticks\": \"\"}}, \"type\": \"scatterpolargl\"}], \"scatterternary\": [{\"marker\": {\"colorbar\": {\"outlinewidth\": 0, \"ticks\": \"\"}}, \"type\": \"scatterternary\"}], \"surface\": [{\"colorbar\": {\"outlinewidth\": 0, \"ticks\": \"\"}, \"colorscale\": [[0.0, \"#0d0887\"], [0.1111111111111111, \"#46039f\"], [0.2222222222222222, \"#7201a8\"], [0.3333333333333333, \"#9c179e\"], [0.4444444444444444, \"#bd3786\"], [0.5555555555555556, \"#d8576b\"], [0.6666666666666666, \"#ed7953\"], [0.7777777777777778, \"#fb9f3a\"], [0.8888888888888888, \"#fdca26\"], [1.0, \"#f0f921\"]], \"type\": \"surface\"}], \"table\": [{\"cells\": {\"fill\": {\"color\": \"#EBF0F8\"}, \"line\": {\"color\": \"white\"}}, \"header\": {\"fill\": {\"color\": \"#C8D4E3\"}, \"line\": {\"color\": \"white\"}}, \"type\": \"table\"}]}, \"layout\": {\"annotationdefaults\": {\"arrowcolor\": \"#2a3f5f\", \"arrowhead\": 0, \"arrowwidth\": 1}, \"coloraxis\": {\"colorbar\": {\"outlinewidth\": 0, \"ticks\": \"\"}}, \"colorscale\": {\"diverging\": [[0, \"#8e0152\"], [0.1, \"#c51b7d\"], [0.2, \"#de77ae\"], [0.3, \"#f1b6da\"], [0.4, \"#fde0ef\"], [0.5, \"#f7f7f7\"], [0.6, \"#e6f5d0\"], [0.7, \"#b8e186\"], [0.8, \"#7fbc41\"], [0.9, \"#4d9221\"], [1, \"#276419\"]], \"sequential\": [[0.0, \"#0d0887\"], [0.1111111111111111, \"#46039f\"], [0.2222222222222222, \"#7201a8\"], [0.3333333333333333, \"#9c179e\"], [0.4444444444444444, \"#bd3786\"], [0.5555555555555556, \"#d8576b\"], [0.6666666666666666, \"#ed7953\"], [0.7777777777777778, \"#fb9f3a\"], [0.8888888888888888, \"#fdca26\"], [1.0, \"#f0f921\"]], \"sequentialminus\": [[0.0, \"#0d0887\"], [0.1111111111111111, \"#46039f\"], [0.2222222222222222, \"#7201a8\"], [0.3333333333333333, \"#9c179e\"], [0.4444444444444444, \"#bd3786\"], [0.5555555555555556, \"#d8576b\"], [0.6666666666666666, \"#ed7953\"], [0.7777777777777778, \"#fb9f3a\"], [0.8888888888888888, \"#fdca26\"], [1.0, \"#f0f921\"]]}, \"colorway\": [\"#636efa\", \"#EF553B\", \"#00cc96\", \"#ab63fa\", \"#FFA15A\", \"#19d3f3\", \"#FF6692\", \"#B6E880\", \"#FF97FF\", \"#FECB52\"], \"font\": {\"color\": \"#2a3f5f\"}, \"geo\": {\"bgcolor\": \"white\", \"lakecolor\": \"white\", \"landcolor\": \"#E5ECF6\", \"showlakes\": true, \"showland\": true, \"subunitcolor\": \"white\"}, \"hoverlabel\": {\"align\": \"left\"}, \"hovermode\": \"closest\", \"mapbox\": {\"style\": \"light\"}, \"paper_bgcolor\": \"white\", \"plot_bgcolor\": \"#E5ECF6\", \"polar\": {\"angularaxis\": {\"gridcolor\": \"white\", \"linecolor\": \"white\", \"ticks\": \"\"}, \"bgcolor\": \"#E5ECF6\", \"radialaxis\": {\"gridcolor\": \"white\", \"linecolor\": \"white\", \"ticks\": \"\"}}, \"scene\": {\"xaxis\": {\"backgroundcolor\": \"#E5ECF6\", \"gridcolor\": \"white\", \"gridwidth\": 2, \"linecolor\": \"white\", \"showbackground\": true, \"ticks\": \"\", \"zerolinecolor\": \"white\"}, \"yaxis\": {\"backgroundcolor\": \"#E5ECF6\", \"gridcolor\": \"white\", \"gridwidth\": 2, \"linecolor\": \"white\", \"showbackground\": true, \"ticks\": \"\", \"zerolinecolor\": \"white\"}, \"zaxis\": {\"backgroundcolor\": \"#E5ECF6\", \"gridcolor\": \"white\", \"gridwidth\": 2, \"linecolor\": \"white\", \"showbackground\": true, \"ticks\": \"\", \"zerolinecolor\": \"white\"}}, \"shapedefaults\": {\"line\": {\"color\": \"#2a3f5f\"}}, \"ternary\": {\"aaxis\": {\"gridcolor\": \"white\", \"linecolor\": \"white\", \"ticks\": \"\"}, \"baxis\": {\"gridcolor\": \"white\", \"linecolor\": \"white\", \"ticks\": \"\"}, \"bgcolor\": \"#E5ECF6\", \"caxis\": {\"gridcolor\": \"white\", \"linecolor\": \"white\", \"ticks\": \"\"}}, \"title\": {\"x\": 0.05}, \"xaxis\": {\"automargin\": true, \"gridcolor\": \"white\", \"linecolor\": \"white\", \"ticks\": \"\", \"title\": {\"standoff\": 15}, \"zerolinecolor\": \"white\", \"zerolinewidth\": 2}, \"yaxis\": {\"automargin\": true, \"gridcolor\": \"white\", \"linecolor\": \"white\", \"ticks\": \"\", \"title\": {\"standoff\": 15}, \"zerolinecolor\": \"white\", \"zerolinewidth\": 2}}}, \"width\": 900, \"xaxis\": {\"rangeselector\": {\"buttons\": [{\"count\": 7, \"label\": \"1w\", \"step\": \"day\", \"stepmode\": \"backward\"}, {\"count\": 1, \"label\": \"1m\", \"step\": \"month\", \"stepmode\": \"backward\"}, {\"count\": 6, \"label\": \"6m\", \"step\": \"month\", \"stepmode\": \"backward\"}, {\"count\": 1, \"label\": \"1y\", \"step\": \"year\", \"stepmode\": \"backward\"}, {\"step\": \"all\"}]}, \"rangeslider\": {\"visible\": true}, \"title\": {\"text\": \"ds\"}, \"type\": \"date\"}, \"yaxis\": {\"title\": {\"text\": \"y\"}}},\n",
              "                        {\"responsive\": true}\n",
              "                    ).then(function(){\n",
              "                            \n",
              "var gd = document.getElementById('18ef9afb-1885-4de8-abd7-2aff2dcde1bb');\n",
              "var x = new MutationObserver(function (mutations, observer) {{\n",
              "        var display = window.getComputedStyle(gd).display;\n",
              "        if (!display || display === 'none') {{\n",
              "            console.log([gd, 'removed!']);\n",
              "            Plotly.purge(gd);\n",
              "            observer.disconnect();\n",
              "        }}\n",
              "}});\n",
              "\n",
              "// Listen for the removal of the full notebook cells\n",
              "var notebookContainer = gd.closest('#notebook-container');\n",
              "if (notebookContainer) {{\n",
              "    x.observe(notebookContainer, {childList: true});\n",
              "}}\n",
              "\n",
              "// Listen for the clearing of the current output cell\n",
              "var outputEl = gd.closest('.output');\n",
              "if (outputEl) {{\n",
              "    x.observe(outputEl, {childList: true});\n",
              "}}\n",
              "\n",
              "                        })\n",
              "                };\n",
              "                \n",
              "            </script>\n",
              "        </div>\n",
              "</body>\n",
              "</html>"
            ]
          },
          "metadata": {}
        }
      ]
    },
    {
      "cell_type": "code",
      "metadata": {
        "colab": {
          "base_uri": "https://localhost:8080/",
          "height": 424
        },
        "id": "S2K4I2gP0et1",
        "outputId": "ed0aa06c-0181-4198-b02c-8b436add856c"
      },
      "source": [
        "previsao[ ['ds', 'yhat', 'yhat_lower', 'yhat_upper'] ]"
      ],
      "execution_count": 73,
      "outputs": [
        {
          "output_type": "execute_result",
          "data": {
            "text/html": [
              "<div>\n",
              "<style scoped>\n",
              "    .dataframe tbody tr th:only-of-type {\n",
              "        vertical-align: middle;\n",
              "    }\n",
              "\n",
              "    .dataframe tbody tr th {\n",
              "        vertical-align: top;\n",
              "    }\n",
              "\n",
              "    .dataframe thead th {\n",
              "        text-align: right;\n",
              "    }\n",
              "</style>\n",
              "<table border=\"1\" class=\"dataframe\">\n",
              "  <thead>\n",
              "    <tr style=\"text-align: right;\">\n",
              "      <th></th>\n",
              "      <th>ds</th>\n",
              "      <th>yhat</th>\n",
              "      <th>yhat_lower</th>\n",
              "      <th>yhat_upper</th>\n",
              "    </tr>\n",
              "  </thead>\n",
              "  <tbody>\n",
              "    <tr>\n",
              "      <th>0</th>\n",
              "      <td>2021-09-17</td>\n",
              "      <td>11.403346</td>\n",
              "      <td>4.512822</td>\n",
              "      <td>18.340662</td>\n",
              "    </tr>\n",
              "    <tr>\n",
              "      <th>1</th>\n",
              "      <td>2021-09-18</td>\n",
              "      <td>7.293774</td>\n",
              "      <td>0.802679</td>\n",
              "      <td>13.465496</td>\n",
              "    </tr>\n",
              "    <tr>\n",
              "      <th>2</th>\n",
              "      <td>2021-09-19</td>\n",
              "      <td>4.093907</td>\n",
              "      <td>-2.276558</td>\n",
              "      <td>10.412891</td>\n",
              "    </tr>\n",
              "    <tr>\n",
              "      <th>3</th>\n",
              "      <td>2021-09-20</td>\n",
              "      <td>12.975142</td>\n",
              "      <td>6.296753</td>\n",
              "      <td>19.139376</td>\n",
              "    </tr>\n",
              "    <tr>\n",
              "      <th>4</th>\n",
              "      <td>2021-09-21</td>\n",
              "      <td>16.161093</td>\n",
              "      <td>9.355078</td>\n",
              "      <td>22.765579</td>\n",
              "    </tr>\n",
              "    <tr>\n",
              "      <th>...</th>\n",
              "      <td>...</td>\n",
              "      <td>...</td>\n",
              "      <td>...</td>\n",
              "      <td>...</td>\n",
              "    </tr>\n",
              "    <tr>\n",
              "      <th>101</th>\n",
              "      <td>2021-12-27</td>\n",
              "      <td>8.890978</td>\n",
              "      <td>2.408845</td>\n",
              "      <td>15.675277</td>\n",
              "    </tr>\n",
              "    <tr>\n",
              "      <th>102</th>\n",
              "      <td>2021-12-28</td>\n",
              "      <td>12.076929</td>\n",
              "      <td>5.946374</td>\n",
              "      <td>18.651188</td>\n",
              "    </tr>\n",
              "    <tr>\n",
              "      <th>103</th>\n",
              "      <td>2021-12-29</td>\n",
              "      <td>11.993572</td>\n",
              "      <td>5.133581</td>\n",
              "      <td>18.410123</td>\n",
              "    </tr>\n",
              "    <tr>\n",
              "      <th>104</th>\n",
              "      <td>2021-12-30</td>\n",
              "      <td>9.993667</td>\n",
              "      <td>3.251336</td>\n",
              "      <td>15.876697</td>\n",
              "    </tr>\n",
              "    <tr>\n",
              "      <th>105</th>\n",
              "      <td>2021-12-31</td>\n",
              "      <td>7.027455</td>\n",
              "      <td>0.526061</td>\n",
              "      <td>14.174877</td>\n",
              "    </tr>\n",
              "  </tbody>\n",
              "</table>\n",
              "<p>106 rows × 4 columns</p>\n",
              "</div>"
            ],
            "text/plain": [
              "            ds       yhat  yhat_lower  yhat_upper\n",
              "0   2021-09-17  11.403346    4.512822   18.340662\n",
              "1   2021-09-18   7.293774    0.802679   13.465496\n",
              "2   2021-09-19   4.093907   -2.276558   10.412891\n",
              "3   2021-09-20  12.975142    6.296753   19.139376\n",
              "4   2021-09-21  16.161093    9.355078   22.765579\n",
              "..         ...        ...         ...         ...\n",
              "101 2021-12-27   8.890978    2.408845   15.675277\n",
              "102 2021-12-28  12.076929    5.946374   18.651188\n",
              "103 2021-12-29  11.993572    5.133581   18.410123\n",
              "104 2021-12-30   9.993667    3.251336   15.876697\n",
              "105 2021-12-31   7.027455    0.526061   14.174877\n",
              "\n",
              "[106 rows x 4 columns]"
            ]
          },
          "metadata": {},
          "execution_count": 73
        }
      ]
    },
    {
      "cell_type": "markdown",
      "metadata": {
        "id": "Pultwad_HwDx"
      },
      "source": [
        "##Criação das colunas de previsão, limite de confiança inferior e limite de confiança superior no Dataframe \"previsao_novos_usuarios\", baseado no Dataframe \"previsao\""
      ]
    },
    {
      "cell_type": "code",
      "metadata": {
        "colab": {
          "base_uri": "https://localhost:8080/",
          "height": 424
        },
        "id": "dUBsMdFpDWyd",
        "outputId": "cdafaeb0-994e-4283-a7d9-c80b764aa9ef"
      },
      "source": [
        "previsao_novos_usuarios[['previsao','limite_confianca_inferior', 'limite_confianca_superior']] = previsao[['yhat', 'yhat_lower', 'yhat_upper']]\n",
        "previsao_novos_usuarios"
      ],
      "execution_count": 74,
      "outputs": [
        {
          "output_type": "execute_result",
          "data": {
            "text/html": [
              "<div>\n",
              "<style scoped>\n",
              "    .dataframe tbody tr th:only-of-type {\n",
              "        vertical-align: middle;\n",
              "    }\n",
              "\n",
              "    .dataframe tbody tr th {\n",
              "        vertical-align: top;\n",
              "    }\n",
              "\n",
              "    .dataframe thead th {\n",
              "        text-align: right;\n",
              "    }\n",
              "</style>\n",
              "<table border=\"1\" class=\"dataframe\">\n",
              "  <thead>\n",
              "    <tr style=\"text-align: right;\">\n",
              "      <th></th>\n",
              "      <th>ds</th>\n",
              "      <th>previsao</th>\n",
              "      <th>limite_confianca_inferior</th>\n",
              "      <th>limite_confianca_superior</th>\n",
              "    </tr>\n",
              "  </thead>\n",
              "  <tbody>\n",
              "    <tr>\n",
              "      <th>0</th>\n",
              "      <td>2021-09-17</td>\n",
              "      <td>11.403346</td>\n",
              "      <td>4.512822</td>\n",
              "      <td>18.340662</td>\n",
              "    </tr>\n",
              "    <tr>\n",
              "      <th>1</th>\n",
              "      <td>2021-09-18</td>\n",
              "      <td>7.293774</td>\n",
              "      <td>0.802679</td>\n",
              "      <td>13.465496</td>\n",
              "    </tr>\n",
              "    <tr>\n",
              "      <th>2</th>\n",
              "      <td>2021-09-19</td>\n",
              "      <td>4.093907</td>\n",
              "      <td>-2.276558</td>\n",
              "      <td>10.412891</td>\n",
              "    </tr>\n",
              "    <tr>\n",
              "      <th>3</th>\n",
              "      <td>2021-09-20</td>\n",
              "      <td>12.975142</td>\n",
              "      <td>6.296753</td>\n",
              "      <td>19.139376</td>\n",
              "    </tr>\n",
              "    <tr>\n",
              "      <th>4</th>\n",
              "      <td>2021-09-21</td>\n",
              "      <td>16.161093</td>\n",
              "      <td>9.355078</td>\n",
              "      <td>22.765579</td>\n",
              "    </tr>\n",
              "    <tr>\n",
              "      <th>...</th>\n",
              "      <td>...</td>\n",
              "      <td>...</td>\n",
              "      <td>...</td>\n",
              "      <td>...</td>\n",
              "    </tr>\n",
              "    <tr>\n",
              "      <th>101</th>\n",
              "      <td>2021-12-27</td>\n",
              "      <td>8.890978</td>\n",
              "      <td>2.408845</td>\n",
              "      <td>15.675277</td>\n",
              "    </tr>\n",
              "    <tr>\n",
              "      <th>102</th>\n",
              "      <td>2021-12-28</td>\n",
              "      <td>12.076929</td>\n",
              "      <td>5.946374</td>\n",
              "      <td>18.651188</td>\n",
              "    </tr>\n",
              "    <tr>\n",
              "      <th>103</th>\n",
              "      <td>2021-12-29</td>\n",
              "      <td>11.993572</td>\n",
              "      <td>5.133581</td>\n",
              "      <td>18.410123</td>\n",
              "    </tr>\n",
              "    <tr>\n",
              "      <th>104</th>\n",
              "      <td>2021-12-30</td>\n",
              "      <td>9.993667</td>\n",
              "      <td>3.251336</td>\n",
              "      <td>15.876697</td>\n",
              "    </tr>\n",
              "    <tr>\n",
              "      <th>105</th>\n",
              "      <td>2021-12-31</td>\n",
              "      <td>7.027455</td>\n",
              "      <td>0.526061</td>\n",
              "      <td>14.174877</td>\n",
              "    </tr>\n",
              "  </tbody>\n",
              "</table>\n",
              "<p>106 rows × 4 columns</p>\n",
              "</div>"
            ],
            "text/plain": [
              "            ds   previsao  limite_confianca_inferior  limite_confianca_superior\n",
              "0   2021-09-17  11.403346                   4.512822                  18.340662\n",
              "1   2021-09-18   7.293774                   0.802679                  13.465496\n",
              "2   2021-09-19   4.093907                  -2.276558                  10.412891\n",
              "3   2021-09-20  12.975142                   6.296753                  19.139376\n",
              "4   2021-09-21  16.161093                   9.355078                  22.765579\n",
              "..         ...        ...                        ...                        ...\n",
              "101 2021-12-27   8.890978                   2.408845                  15.675277\n",
              "102 2021-12-28  12.076929                   5.946374                  18.651188\n",
              "103 2021-12-29  11.993572                   5.133581                  18.410123\n",
              "104 2021-12-30   9.993667                   3.251336                  15.876697\n",
              "105 2021-12-31   7.027455                   0.526061                  14.174877\n",
              "\n",
              "[106 rows x 4 columns]"
            ]
          },
          "metadata": {},
          "execution_count": 74
        }
      ]
    },
    {
      "cell_type": "markdown",
      "metadata": {
        "id": "Z51rmu_mIF41"
      },
      "source": [
        "##Renomeação da coluna \"ds\" para \"data\""
      ]
    },
    {
      "cell_type": "code",
      "metadata": {
        "colab": {
          "base_uri": "https://localhost:8080/",
          "height": 424
        },
        "id": "JPQWzD2wD67j",
        "outputId": "8ee41ce7-3293-4653-c214-d7f9ccf9cefd"
      },
      "source": [
        "previsao_novos_usuarios = previsao_novos_usuarios.rename(columns = {'ds':'data'})\n",
        "previsao_novos_usuarios"
      ],
      "execution_count": 75,
      "outputs": [
        {
          "output_type": "execute_result",
          "data": {
            "text/html": [
              "<div>\n",
              "<style scoped>\n",
              "    .dataframe tbody tr th:only-of-type {\n",
              "        vertical-align: middle;\n",
              "    }\n",
              "\n",
              "    .dataframe tbody tr th {\n",
              "        vertical-align: top;\n",
              "    }\n",
              "\n",
              "    .dataframe thead th {\n",
              "        text-align: right;\n",
              "    }\n",
              "</style>\n",
              "<table border=\"1\" class=\"dataframe\">\n",
              "  <thead>\n",
              "    <tr style=\"text-align: right;\">\n",
              "      <th></th>\n",
              "      <th>data</th>\n",
              "      <th>previsao</th>\n",
              "      <th>limite_confianca_inferior</th>\n",
              "      <th>limite_confianca_superior</th>\n",
              "    </tr>\n",
              "  </thead>\n",
              "  <tbody>\n",
              "    <tr>\n",
              "      <th>0</th>\n",
              "      <td>2021-09-17</td>\n",
              "      <td>11.403346</td>\n",
              "      <td>4.512822</td>\n",
              "      <td>18.340662</td>\n",
              "    </tr>\n",
              "    <tr>\n",
              "      <th>1</th>\n",
              "      <td>2021-09-18</td>\n",
              "      <td>7.293774</td>\n",
              "      <td>0.802679</td>\n",
              "      <td>13.465496</td>\n",
              "    </tr>\n",
              "    <tr>\n",
              "      <th>2</th>\n",
              "      <td>2021-09-19</td>\n",
              "      <td>4.093907</td>\n",
              "      <td>-2.276558</td>\n",
              "      <td>10.412891</td>\n",
              "    </tr>\n",
              "    <tr>\n",
              "      <th>3</th>\n",
              "      <td>2021-09-20</td>\n",
              "      <td>12.975142</td>\n",
              "      <td>6.296753</td>\n",
              "      <td>19.139376</td>\n",
              "    </tr>\n",
              "    <tr>\n",
              "      <th>4</th>\n",
              "      <td>2021-09-21</td>\n",
              "      <td>16.161093</td>\n",
              "      <td>9.355078</td>\n",
              "      <td>22.765579</td>\n",
              "    </tr>\n",
              "    <tr>\n",
              "      <th>...</th>\n",
              "      <td>...</td>\n",
              "      <td>...</td>\n",
              "      <td>...</td>\n",
              "      <td>...</td>\n",
              "    </tr>\n",
              "    <tr>\n",
              "      <th>101</th>\n",
              "      <td>2021-12-27</td>\n",
              "      <td>8.890978</td>\n",
              "      <td>2.408845</td>\n",
              "      <td>15.675277</td>\n",
              "    </tr>\n",
              "    <tr>\n",
              "      <th>102</th>\n",
              "      <td>2021-12-28</td>\n",
              "      <td>12.076929</td>\n",
              "      <td>5.946374</td>\n",
              "      <td>18.651188</td>\n",
              "    </tr>\n",
              "    <tr>\n",
              "      <th>103</th>\n",
              "      <td>2021-12-29</td>\n",
              "      <td>11.993572</td>\n",
              "      <td>5.133581</td>\n",
              "      <td>18.410123</td>\n",
              "    </tr>\n",
              "    <tr>\n",
              "      <th>104</th>\n",
              "      <td>2021-12-30</td>\n",
              "      <td>9.993667</td>\n",
              "      <td>3.251336</td>\n",
              "      <td>15.876697</td>\n",
              "    </tr>\n",
              "    <tr>\n",
              "      <th>105</th>\n",
              "      <td>2021-12-31</td>\n",
              "      <td>7.027455</td>\n",
              "      <td>0.526061</td>\n",
              "      <td>14.174877</td>\n",
              "    </tr>\n",
              "  </tbody>\n",
              "</table>\n",
              "<p>106 rows × 4 columns</p>\n",
              "</div>"
            ],
            "text/plain": [
              "          data   previsao  limite_confianca_inferior  limite_confianca_superior\n",
              "0   2021-09-17  11.403346                   4.512822                  18.340662\n",
              "1   2021-09-18   7.293774                   0.802679                  13.465496\n",
              "2   2021-09-19   4.093907                  -2.276558                  10.412891\n",
              "3   2021-09-20  12.975142                   6.296753                  19.139376\n",
              "4   2021-09-21  16.161093                   9.355078                  22.765579\n",
              "..         ...        ...                        ...                        ...\n",
              "101 2021-12-27   8.890978                   2.408845                  15.675277\n",
              "102 2021-12-28  12.076929                   5.946374                  18.651188\n",
              "103 2021-12-29  11.993572                   5.133581                  18.410123\n",
              "104 2021-12-30   9.993667                   3.251336                  15.876697\n",
              "105 2021-12-31   7.027455                   0.526061                  14.174877\n",
              "\n",
              "[106 rows x 4 columns]"
            ]
          },
          "metadata": {},
          "execution_count": 75
        }
      ]
    },
    {
      "cell_type": "markdown",
      "metadata": {
        "id": "TefTZNVDIOAT"
      },
      "source": [
        "##Arredondamento dos valores do DataFrame \"previsao_novos_usuarios\""
      ]
    },
    {
      "cell_type": "code",
      "metadata": {
        "colab": {
          "base_uri": "https://localhost:8080/",
          "height": 424
        },
        "id": "fHptLoFPEZm4",
        "outputId": "5a03f8cd-9699-4a34-8ff8-d4da6fe234a5"
      },
      "source": [
        "previsao_novos_usuarios[['previsao','limite_confianca_inferior', 'limite_confianca_superior']] = previsao_novos_usuarios[['previsao','limite_confianca_inferior', 'limite_confianca_superior']].round(0).astype(int)\n",
        "previsao_novos_usuarios"
      ],
      "execution_count": 76,
      "outputs": [
        {
          "output_type": "execute_result",
          "data": {
            "text/html": [
              "<div>\n",
              "<style scoped>\n",
              "    .dataframe tbody tr th:only-of-type {\n",
              "        vertical-align: middle;\n",
              "    }\n",
              "\n",
              "    .dataframe tbody tr th {\n",
              "        vertical-align: top;\n",
              "    }\n",
              "\n",
              "    .dataframe thead th {\n",
              "        text-align: right;\n",
              "    }\n",
              "</style>\n",
              "<table border=\"1\" class=\"dataframe\">\n",
              "  <thead>\n",
              "    <tr style=\"text-align: right;\">\n",
              "      <th></th>\n",
              "      <th>data</th>\n",
              "      <th>previsao</th>\n",
              "      <th>limite_confianca_inferior</th>\n",
              "      <th>limite_confianca_superior</th>\n",
              "    </tr>\n",
              "  </thead>\n",
              "  <tbody>\n",
              "    <tr>\n",
              "      <th>0</th>\n",
              "      <td>2021-09-17</td>\n",
              "      <td>11</td>\n",
              "      <td>5</td>\n",
              "      <td>18</td>\n",
              "    </tr>\n",
              "    <tr>\n",
              "      <th>1</th>\n",
              "      <td>2021-09-18</td>\n",
              "      <td>7</td>\n",
              "      <td>1</td>\n",
              "      <td>13</td>\n",
              "    </tr>\n",
              "    <tr>\n",
              "      <th>2</th>\n",
              "      <td>2021-09-19</td>\n",
              "      <td>4</td>\n",
              "      <td>-2</td>\n",
              "      <td>10</td>\n",
              "    </tr>\n",
              "    <tr>\n",
              "      <th>3</th>\n",
              "      <td>2021-09-20</td>\n",
              "      <td>13</td>\n",
              "      <td>6</td>\n",
              "      <td>19</td>\n",
              "    </tr>\n",
              "    <tr>\n",
              "      <th>4</th>\n",
              "      <td>2021-09-21</td>\n",
              "      <td>16</td>\n",
              "      <td>9</td>\n",
              "      <td>23</td>\n",
              "    </tr>\n",
              "    <tr>\n",
              "      <th>...</th>\n",
              "      <td>...</td>\n",
              "      <td>...</td>\n",
              "      <td>...</td>\n",
              "      <td>...</td>\n",
              "    </tr>\n",
              "    <tr>\n",
              "      <th>101</th>\n",
              "      <td>2021-12-27</td>\n",
              "      <td>9</td>\n",
              "      <td>2</td>\n",
              "      <td>16</td>\n",
              "    </tr>\n",
              "    <tr>\n",
              "      <th>102</th>\n",
              "      <td>2021-12-28</td>\n",
              "      <td>12</td>\n",
              "      <td>6</td>\n",
              "      <td>19</td>\n",
              "    </tr>\n",
              "    <tr>\n",
              "      <th>103</th>\n",
              "      <td>2021-12-29</td>\n",
              "      <td>12</td>\n",
              "      <td>5</td>\n",
              "      <td>18</td>\n",
              "    </tr>\n",
              "    <tr>\n",
              "      <th>104</th>\n",
              "      <td>2021-12-30</td>\n",
              "      <td>10</td>\n",
              "      <td>3</td>\n",
              "      <td>16</td>\n",
              "    </tr>\n",
              "    <tr>\n",
              "      <th>105</th>\n",
              "      <td>2021-12-31</td>\n",
              "      <td>7</td>\n",
              "      <td>1</td>\n",
              "      <td>14</td>\n",
              "    </tr>\n",
              "  </tbody>\n",
              "</table>\n",
              "<p>106 rows × 4 columns</p>\n",
              "</div>"
            ],
            "text/plain": [
              "          data  previsao  limite_confianca_inferior  limite_confianca_superior\n",
              "0   2021-09-17        11                          5                         18\n",
              "1   2021-09-18         7                          1                         13\n",
              "2   2021-09-19         4                         -2                         10\n",
              "3   2021-09-20        13                          6                         19\n",
              "4   2021-09-21        16                          9                         23\n",
              "..         ...       ...                        ...                        ...\n",
              "101 2021-12-27         9                          2                         16\n",
              "102 2021-12-28        12                          6                         19\n",
              "103 2021-12-29        12                          5                         18\n",
              "104 2021-12-30        10                          3                         16\n",
              "105 2021-12-31         7                          1                         14\n",
              "\n",
              "[106 rows x 4 columns]"
            ]
          },
          "metadata": {},
          "execution_count": 76
        }
      ]
    },
    {
      "cell_type": "markdown",
      "metadata": {
        "id": "Zy3SnGeMIW4l"
      },
      "source": [
        "##Visualização das informações do DataFrame \"previsao_novos_usuarios\""
      ]
    },
    {
      "cell_type": "code",
      "metadata": {
        "colab": {
          "base_uri": "https://localhost:8080/"
        },
        "id": "HhpqrvVEF6DK",
        "outputId": "7762de0b-5ac9-4424-b8c3-760b6fc494a6"
      },
      "source": [
        "previsao_novos_usuarios.info()"
      ],
      "execution_count": 77,
      "outputs": [
        {
          "output_type": "stream",
          "name": "stdout",
          "text": [
            "<class 'pandas.core.frame.DataFrame'>\n",
            "RangeIndex: 106 entries, 0 to 105\n",
            "Data columns (total 4 columns):\n",
            " #   Column                     Non-Null Count  Dtype         \n",
            "---  ------                     --------------  -----         \n",
            " 0   data                       106 non-null    datetime64[ns]\n",
            " 1   previsao                   106 non-null    int64         \n",
            " 2   limite_confianca_inferior  106 non-null    int64         \n",
            " 3   limite_confianca_superior  106 non-null    int64         \n",
            "dtypes: datetime64[ns](1), int64(3)\n",
            "memory usage: 3.4 KB\n"
          ]
        }
      ]
    },
    {
      "cell_type": "code",
      "metadata": {
        "id": "bk-BWLnAGKdC"
      },
      "source": [
        "#previsao_novos_usuarios['data'] = pd.to_datetime(previsao_novos_usuarios['data'], dayfirst = True)\n",
        "#previsao_novos_usuarios['data']"
      ],
      "execution_count": 78,
      "outputs": []
    },
    {
      "cell_type": "markdown",
      "metadata": {
        "id": "mO0n2kNWItCl"
      },
      "source": [
        "##Importação do datetime"
      ]
    },
    {
      "cell_type": "code",
      "metadata": {
        "id": "_UycjWV4FyPC"
      },
      "source": [
        "import datetime"
      ],
      "execution_count": 79,
      "outputs": []
    },
    {
      "cell_type": "markdown",
      "metadata": {
        "id": "4uZJNYNIIwGJ"
      },
      "source": [
        "##Transformação do formato das datas e mensuração da quantidade de novos usuários por mês"
      ]
    },
    {
      "cell_type": "code",
      "metadata": {
        "colab": {
          "base_uri": "https://localhost:8080/",
          "height": 424
        },
        "id": "Z0JfviAcFXIb",
        "outputId": "99f306b0-a1c0-483b-cd7f-f7d9e502f0c8"
      },
      "source": [
        "previsao_novos_usuarios['data'] = previsao_novos_usuarios['data'].dt.strftime('%Y-%m-01')\n",
        "previsao_novos_usuarios"
      ],
      "execution_count": 80,
      "outputs": [
        {
          "output_type": "execute_result",
          "data": {
            "text/html": [
              "<div>\n",
              "<style scoped>\n",
              "    .dataframe tbody tr th:only-of-type {\n",
              "        vertical-align: middle;\n",
              "    }\n",
              "\n",
              "    .dataframe tbody tr th {\n",
              "        vertical-align: top;\n",
              "    }\n",
              "\n",
              "    .dataframe thead th {\n",
              "        text-align: right;\n",
              "    }\n",
              "</style>\n",
              "<table border=\"1\" class=\"dataframe\">\n",
              "  <thead>\n",
              "    <tr style=\"text-align: right;\">\n",
              "      <th></th>\n",
              "      <th>data</th>\n",
              "      <th>previsao</th>\n",
              "      <th>limite_confianca_inferior</th>\n",
              "      <th>limite_confianca_superior</th>\n",
              "    </tr>\n",
              "  </thead>\n",
              "  <tbody>\n",
              "    <tr>\n",
              "      <th>0</th>\n",
              "      <td>2021-09-01</td>\n",
              "      <td>11</td>\n",
              "      <td>5</td>\n",
              "      <td>18</td>\n",
              "    </tr>\n",
              "    <tr>\n",
              "      <th>1</th>\n",
              "      <td>2021-09-01</td>\n",
              "      <td>7</td>\n",
              "      <td>1</td>\n",
              "      <td>13</td>\n",
              "    </tr>\n",
              "    <tr>\n",
              "      <th>2</th>\n",
              "      <td>2021-09-01</td>\n",
              "      <td>4</td>\n",
              "      <td>-2</td>\n",
              "      <td>10</td>\n",
              "    </tr>\n",
              "    <tr>\n",
              "      <th>3</th>\n",
              "      <td>2021-09-01</td>\n",
              "      <td>13</td>\n",
              "      <td>6</td>\n",
              "      <td>19</td>\n",
              "    </tr>\n",
              "    <tr>\n",
              "      <th>4</th>\n",
              "      <td>2021-09-01</td>\n",
              "      <td>16</td>\n",
              "      <td>9</td>\n",
              "      <td>23</td>\n",
              "    </tr>\n",
              "    <tr>\n",
              "      <th>...</th>\n",
              "      <td>...</td>\n",
              "      <td>...</td>\n",
              "      <td>...</td>\n",
              "      <td>...</td>\n",
              "    </tr>\n",
              "    <tr>\n",
              "      <th>101</th>\n",
              "      <td>2021-12-01</td>\n",
              "      <td>9</td>\n",
              "      <td>2</td>\n",
              "      <td>16</td>\n",
              "    </tr>\n",
              "    <tr>\n",
              "      <th>102</th>\n",
              "      <td>2021-12-01</td>\n",
              "      <td>12</td>\n",
              "      <td>6</td>\n",
              "      <td>19</td>\n",
              "    </tr>\n",
              "    <tr>\n",
              "      <th>103</th>\n",
              "      <td>2021-12-01</td>\n",
              "      <td>12</td>\n",
              "      <td>5</td>\n",
              "      <td>18</td>\n",
              "    </tr>\n",
              "    <tr>\n",
              "      <th>104</th>\n",
              "      <td>2021-12-01</td>\n",
              "      <td>10</td>\n",
              "      <td>3</td>\n",
              "      <td>16</td>\n",
              "    </tr>\n",
              "    <tr>\n",
              "      <th>105</th>\n",
              "      <td>2021-12-01</td>\n",
              "      <td>7</td>\n",
              "      <td>1</td>\n",
              "      <td>14</td>\n",
              "    </tr>\n",
              "  </tbody>\n",
              "</table>\n",
              "<p>106 rows × 4 columns</p>\n",
              "</div>"
            ],
            "text/plain": [
              "           data  previsao  limite_confianca_inferior  limite_confianca_superior\n",
              "0    2021-09-01        11                          5                         18\n",
              "1    2021-09-01         7                          1                         13\n",
              "2    2021-09-01         4                         -2                         10\n",
              "3    2021-09-01        13                          6                         19\n",
              "4    2021-09-01        16                          9                         23\n",
              "..          ...       ...                        ...                        ...\n",
              "101  2021-12-01         9                          2                         16\n",
              "102  2021-12-01        12                          6                         19\n",
              "103  2021-12-01        12                          5                         18\n",
              "104  2021-12-01        10                          3                         16\n",
              "105  2021-12-01         7                          1                         14\n",
              "\n",
              "[106 rows x 4 columns]"
            ]
          },
          "metadata": {},
          "execution_count": 80
        }
      ]
    },
    {
      "cell_type": "code",
      "metadata": {
        "colab": {
          "base_uri": "https://localhost:8080/",
          "height": 424
        },
        "id": "g9Rc-d18HoCU",
        "outputId": "fc2b54aa-8632-4924-d339-c1b5fbe4d3e2"
      },
      "source": [
        "previsao_novos_usuarios['data'] = previsao_novos_usuarios['data'].map({'2021-09-01':'Setembro (17/09-30/09)', '2021-10-01':'Outubro','2021-11-01':'Novembro','2021-12-01':'Dezembro'})\n",
        "previsao_novos_usuarios"
      ],
      "execution_count": 81,
      "outputs": [
        {
          "output_type": "execute_result",
          "data": {
            "text/html": [
              "<div>\n",
              "<style scoped>\n",
              "    .dataframe tbody tr th:only-of-type {\n",
              "        vertical-align: middle;\n",
              "    }\n",
              "\n",
              "    .dataframe tbody tr th {\n",
              "        vertical-align: top;\n",
              "    }\n",
              "\n",
              "    .dataframe thead th {\n",
              "        text-align: right;\n",
              "    }\n",
              "</style>\n",
              "<table border=\"1\" class=\"dataframe\">\n",
              "  <thead>\n",
              "    <tr style=\"text-align: right;\">\n",
              "      <th></th>\n",
              "      <th>data</th>\n",
              "      <th>previsao</th>\n",
              "      <th>limite_confianca_inferior</th>\n",
              "      <th>limite_confianca_superior</th>\n",
              "    </tr>\n",
              "  </thead>\n",
              "  <tbody>\n",
              "    <tr>\n",
              "      <th>0</th>\n",
              "      <td>Setembro (17/09-30/09)</td>\n",
              "      <td>11</td>\n",
              "      <td>5</td>\n",
              "      <td>18</td>\n",
              "    </tr>\n",
              "    <tr>\n",
              "      <th>1</th>\n",
              "      <td>Setembro (17/09-30/09)</td>\n",
              "      <td>7</td>\n",
              "      <td>1</td>\n",
              "      <td>13</td>\n",
              "    </tr>\n",
              "    <tr>\n",
              "      <th>2</th>\n",
              "      <td>Setembro (17/09-30/09)</td>\n",
              "      <td>4</td>\n",
              "      <td>-2</td>\n",
              "      <td>10</td>\n",
              "    </tr>\n",
              "    <tr>\n",
              "      <th>3</th>\n",
              "      <td>Setembro (17/09-30/09)</td>\n",
              "      <td>13</td>\n",
              "      <td>6</td>\n",
              "      <td>19</td>\n",
              "    </tr>\n",
              "    <tr>\n",
              "      <th>4</th>\n",
              "      <td>Setembro (17/09-30/09)</td>\n",
              "      <td>16</td>\n",
              "      <td>9</td>\n",
              "      <td>23</td>\n",
              "    </tr>\n",
              "    <tr>\n",
              "      <th>...</th>\n",
              "      <td>...</td>\n",
              "      <td>...</td>\n",
              "      <td>...</td>\n",
              "      <td>...</td>\n",
              "    </tr>\n",
              "    <tr>\n",
              "      <th>101</th>\n",
              "      <td>Dezembro</td>\n",
              "      <td>9</td>\n",
              "      <td>2</td>\n",
              "      <td>16</td>\n",
              "    </tr>\n",
              "    <tr>\n",
              "      <th>102</th>\n",
              "      <td>Dezembro</td>\n",
              "      <td>12</td>\n",
              "      <td>6</td>\n",
              "      <td>19</td>\n",
              "    </tr>\n",
              "    <tr>\n",
              "      <th>103</th>\n",
              "      <td>Dezembro</td>\n",
              "      <td>12</td>\n",
              "      <td>5</td>\n",
              "      <td>18</td>\n",
              "    </tr>\n",
              "    <tr>\n",
              "      <th>104</th>\n",
              "      <td>Dezembro</td>\n",
              "      <td>10</td>\n",
              "      <td>3</td>\n",
              "      <td>16</td>\n",
              "    </tr>\n",
              "    <tr>\n",
              "      <th>105</th>\n",
              "      <td>Dezembro</td>\n",
              "      <td>7</td>\n",
              "      <td>1</td>\n",
              "      <td>14</td>\n",
              "    </tr>\n",
              "  </tbody>\n",
              "</table>\n",
              "<p>106 rows × 4 columns</p>\n",
              "</div>"
            ],
            "text/plain": [
              "                       data  ...  limite_confianca_superior\n",
              "0    Setembro (17/09-30/09)  ...                         18\n",
              "1    Setembro (17/09-30/09)  ...                         13\n",
              "2    Setembro (17/09-30/09)  ...                         10\n",
              "3    Setembro (17/09-30/09)  ...                         19\n",
              "4    Setembro (17/09-30/09)  ...                         23\n",
              "..                      ...  ...                        ...\n",
              "101                Dezembro  ...                         16\n",
              "102                Dezembro  ...                         19\n",
              "103                Dezembro  ...                         18\n",
              "104                Dezembro  ...                         16\n",
              "105                Dezembro  ...                         14\n",
              "\n",
              "[106 rows x 4 columns]"
            ]
          },
          "metadata": {},
          "execution_count": 81
        }
      ]
    },
    {
      "cell_type": "code",
      "metadata": {
        "colab": {
          "base_uri": "https://localhost:8080/"
        },
        "id": "QV50ROMTG6mP",
        "outputId": "9c0c1991-fe73-4742-9d07-3175feae0dcb"
      },
      "source": [
        "previsao_novos_usuarios_por_mes = previsao_novos_usuarios.groupby(by='data')['previsao'].sum()\n",
        "previsao_novos_usuarios_por_mes\n"
      ],
      "execution_count": 82,
      "outputs": [
        {
          "output_type": "execute_result",
          "data": {
            "text/plain": [
              "data\n",
              "Dezembro                  258\n",
              "Novembro                  284\n",
              "Outubro                   319\n",
              "Setembro (17/09-30/09)    162\n",
              "Name: previsao, dtype: int64"
            ]
          },
          "metadata": {},
          "execution_count": 82
        }
      ]
    },
    {
      "cell_type": "markdown",
      "metadata": {
        "id": "pBkrmCsgJE1C"
      },
      "source": [
        "##Previsão do número total de novos usuários do dia 17 de setembro até 31 de dezembro"
      ]
    },
    {
      "cell_type": "code",
      "metadata": {
        "colab": {
          "base_uri": "https://localhost:8080/"
        },
        "id": "LstELIMRHSjI",
        "outputId": "43a2c039-b94c-4429-fd47-f480ac316d02"
      },
      "source": [
        "total_previsao_novos_usuarios = previsao_novos_usuarios_por_mes.sum()\n",
        "total_previsao_novos_usuarios"
      ],
      "execution_count": 83,
      "outputs": [
        {
          "output_type": "execute_result",
          "data": {
            "text/plain": [
              "1023"
            ]
          },
          "metadata": {},
          "execution_count": 83
        }
      ]
    }
  ]
}